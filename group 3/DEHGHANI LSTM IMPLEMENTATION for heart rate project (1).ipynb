{
 "cells": [
  {
   "cell_type": "markdown",
   "id": "6a9b92c3",
   "metadata": {},
   "source": [
    "# Import required liberaries"
   ]
  },
  {
   "cell_type": "code",
   "execution_count": 1,
   "id": "458a4e68",
   "metadata": {},
   "outputs": [],
   "source": [
    "#import liberaries\n",
    "import numpy as np\n",
    "import pandas as pd\n",
    "from pandas import read_csv\n",
    "from numpy import nan\n",
    "from numpy import isnan\n",
    "from pandas import to_numeric\n",
    "import matplotlib.pyplot as plt"
   ]
  },
  {
   "cell_type": "markdown",
   "id": "3aa340ec",
   "metadata": {},
   "source": [
    "# load dataset"
   ]
  },
  {
   "cell_type": "code",
   "execution_count": 2,
   "id": "f22dd9e8",
   "metadata": {},
   "outputs": [
    {
     "data": {
      "text/html": [
       "<div>\n",
       "<style scoped>\n",
       "    .dataframe tbody tr th:only-of-type {\n",
       "        vertical-align: middle;\n",
       "    }\n",
       "\n",
       "    .dataframe tbody tr th {\n",
       "        vertical-align: top;\n",
       "    }\n",
       "\n",
       "    .dataframe thead th {\n",
       "        text-align: right;\n",
       "    }\n",
       "</style>\n",
       "<table border=\"1\" class=\"dataframe\">\n",
       "  <thead>\n",
       "    <tr style=\"text-align: right;\">\n",
       "      <th></th>\n",
       "      <th>HR</th>\n",
       "    </tr>\n",
       "  </thead>\n",
       "  <tbody>\n",
       "    <tr>\n",
       "      <th>0</th>\n",
       "      <td>91.4634</td>\n",
       "    </tr>\n",
       "    <tr>\n",
       "      <th>1</th>\n",
       "      <td>91.1834</td>\n",
       "    </tr>\n",
       "    <tr>\n",
       "      <th>2</th>\n",
       "      <td>91.8788</td>\n",
       "    </tr>\n",
       "    <tr>\n",
       "      <th>3</th>\n",
       "      <td>91.1772</td>\n",
       "    </tr>\n",
       "    <tr>\n",
       "      <th>4</th>\n",
       "      <td>89.7992</td>\n",
       "    </tr>\n",
       "  </tbody>\n",
       "</table>\n",
       "</div>"
      ],
      "text/plain": [
       "        HR\n",
       "0  91.4634\n",
       "1  91.1834\n",
       "2  91.8788\n",
       "3  91.1772\n",
       "4  89.7992"
      ]
     },
     "execution_count": 2,
     "metadata": {},
     "output_type": "execute_result"
    }
   ],
   "source": [
    "# load data\n",
    "dataset = read_csv('heart-rate-time-series.csv')\n",
    "dataset.columns=['HR'] #make heading for the column\n",
    "dataset.head()"
   ]
  },
  {
   "cell_type": "code",
   "execution_count": 3,
   "id": "3db14ef1",
   "metadata": {
    "scrolled": true
   },
   "outputs": [
    {
     "data": {
      "text/html": [
       "<div>\n",
       "<style scoped>\n",
       "    .dataframe tbody tr th:only-of-type {\n",
       "        vertical-align: middle;\n",
       "    }\n",
       "\n",
       "    .dataframe tbody tr th {\n",
       "        vertical-align: top;\n",
       "    }\n",
       "\n",
       "    .dataframe thead th {\n",
       "        text-align: right;\n",
       "    }\n",
       "</style>\n",
       "<table border=\"1\" class=\"dataframe\">\n",
       "  <thead>\n",
       "    <tr style=\"text-align: right;\">\n",
       "      <th></th>\n",
       "      <th>HR</th>\n",
       "    </tr>\n",
       "  </thead>\n",
       "  <tbody>\n",
       "    <tr>\n",
       "      <th>0</th>\n",
       "      <td>91.463402</td>\n",
       "    </tr>\n",
       "    <tr>\n",
       "      <th>1</th>\n",
       "      <td>91.183403</td>\n",
       "    </tr>\n",
       "    <tr>\n",
       "      <th>2</th>\n",
       "      <td>91.878799</td>\n",
       "    </tr>\n",
       "    <tr>\n",
       "      <th>3</th>\n",
       "      <td>91.177200</td>\n",
       "    </tr>\n",
       "    <tr>\n",
       "      <th>4</th>\n",
       "      <td>89.799202</td>\n",
       "    </tr>\n",
       "  </tbody>\n",
       "</table>\n",
       "</div>"
      ],
      "text/plain": [
       "          HR\n",
       "0  91.463402\n",
       "1  91.183403\n",
       "2  91.878799\n",
       "3  91.177200\n",
       "4  89.799202"
      ]
     },
     "execution_count": 3,
     "metadata": {},
     "output_type": "execute_result"
    }
   ],
   "source": [
    "from numpy import nan\n",
    "from numpy import isnan\n",
    "from pandas import to_numeric\n",
    "# mark all missing values\n",
    "dataset.replace('?', nan, inplace=True)\n",
    "# make dataset numeric\n",
    "dataset = dataset.astype('float32')\n",
    "dataset.head()"
   ]
  },
  {
   "cell_type": "markdown",
   "id": "3d37dbac",
   "metadata": {},
   "source": [
    "# Plot dataset to get more information about dataset"
   ]
  },
  {
   "cell_type": "code",
   "execution_count": 4,
   "id": "8c7fadeb",
   "metadata": {
    "scrolled": true
   },
   "outputs": [
    {
     "data": {
      "text/plain": [
       "[<matplotlib.lines.Line2D at 0xd89007fc70>]"
      ]
     },
     "execution_count": 4,
     "metadata": {},
     "output_type": "execute_result"
    },
    {
     "data": {
      "image/png": "[encoded data removed]",
      "text/plain": [
       "<Figure size 432x288 with 1 Axes>"
      ]
     },
     "metadata": {
      "needs_background": "light"
     },
     "output_type": "display_data"
    }
   ],
   "source": [
    "plt.plot(dataset)"
   ]
  },
  {
   "cell_type": "markdown",
   "id": "6b8c29fd",
   "metadata": {},
   "source": [
    "# Moving averaging over the dataset to make it smoother"
   ]
  },
  {
   "cell_type": "code",
   "execution_count": 5,
   "id": "5ab46315",
   "metadata": {
    "scrolled": false
   },
   "outputs": [
    {
     "data": {
      "image/png": "[encoded data removed]",
      "text/plain": [
       "<Figure size 576x288 with 1 Axes>"
      ]
     },
     "metadata": {
      "needs_background": "light"
     },
     "output_type": "display_data"
    }
   ],
   "source": [
    "dataset.rolling(window = 40).mean().plot(figsize=(8,4), color=\"tab:red\", title=\"Rolling Mean over 40 steps\");"
   ]
  },
  {
   "cell_type": "markdown",
   "id": "c0a86dce",
   "metadata": {},
   "source": [
    "# Do some statistics to got more insights"
   ]
  },
  {
   "cell_type": "code",
   "execution_count": 6,
   "id": "0fa06321",
   "metadata": {
    "scrolled": false
   },
   "outputs": [
    {
     "data": {
      "image/png": "[encoded data removed]",
      "text/plain": [
       "<Figure size 432x288 with 1 Axes>"
      ]
     },
     "execution_count": 6,
     "metadata": {},
     "output_type": "execute_result"
    },
    {
     "data": {
      "image/png": "[encoded data removed]",
      "text/plain": [
       "<Figure size 432x288 with 1 Axes>"
      ]
     },
     "metadata": {
      "needs_background": "light"
     },
     "output_type": "display_data"
    }
   ],
   "source": [
    "from statsmodels.graphics.tsaplots import plot_acf\n",
    "\n",
    "plot_acf(dataset) #Auto Correlation Function ACF Plot or Autocorrelation plot"
   ]
  },
  {
   "cell_type": "code",
   "execution_count": 7,
   "id": "c568193c",
   "metadata": {
    "scrolled": true
   },
   "outputs": [
    {
     "data": {
      "image/png": "[encoded data removed]",
      "text/plain": [
       "<Figure size 432x288 with 1 Axes>"
      ]
     },
     "execution_count": 7,
     "metadata": {},
     "output_type": "execute_result"
    },
    {
     "data": {
      "image/png": "[encoded data removed]",
      "text/plain": [
       "<Figure size 432x288 with 1 Axes>"
      ]
     },
     "metadata": {
      "needs_background": "light"
     },
     "output_type": "display_data"
    }
   ],
   "source": [
    "from statsmodels.graphics.tsaplots import plot_pacf\n",
    "plot_pacf(dataset) #partial autocorrelation function (PACF) plot"
   ]
  },
  {
   "cell_type": "markdown",
   "id": "de389310",
   "metadata": {},
   "source": [
    "# Dicky Fuller test to see whether the time series is stationary or not"
   ]
  },
  {
   "cell_type": "code",
   "execution_count": 8,
   "id": "b0ff35b3",
   "metadata": {
    "scrolled": false
   },
   "outputs": [
    {
     "name": "stdout",
     "output_type": "stream",
     "text": [
      "1. ADF :  -7.457988233959135\n",
      "2. P-Value :  5.447866825089469e-11\n",
      "3. Num Of Lags :  23\n",
      "4. Num Of Observations Used For ADF Regression and Critical Values Calculation : 1775\n",
      "5. Critical Values :\n",
      "\t 1% :  -3.4340394547116797\n",
      "\t 5% :  -2.863169689048283\n",
      "\t 10% :  -2.5676375957944853\n"
     ]
    }
   ],
   "source": [
    "from statsmodels.tsa.stattools import adfuller\n",
    "\n",
    "dftest = adfuller(dataset['HR'], autolag = 'AIC')\n",
    "\n",
    "print(\"1. ADF : \",dftest[0])\n",
    "print(\"2. P-Value : \", dftest[1])\n",
    "print(\"3. Num Of Lags : \", dftest[2])\n",
    "print(\"4. Num Of Observations Used For ADF Regression and Critical Values Calculation :\", dftest[3])\n",
    "print(\"5. Critical Values :\")\n",
    "for key, val in dftest[4].items():\n",
    "    print(\"\\t\",key, \": \", val)"
   ]
  },
  {
   "cell_type": "markdown",
   "id": "711c6b7c",
   "metadata": {},
   "source": [
    "# Differencing to make the time series stationary"
   ]
  },
  {
   "cell_type": "code",
   "execution_count": 9,
   "id": "1a0270ab",
   "metadata": {
    "scrolled": true
   },
   "outputs": [],
   "source": [
    "# from pandas import Series\n",
    "# # create a differenced series\n",
    "# def difference(dataset, interval=10):\n",
    "#     diff = list()\n",
    "#     for i in range(interval, len(dataset)):\n",
    "#         value = dataset[i] - dataset[i - interval]\n",
    "#         diff.append(value)\n",
    "#     return Series(diff)\n",
    "\n",
    "# dataset=difference(dataset, interval=10)\n"
   ]
  },
  {
   "cell_type": "markdown",
   "id": "2879861b",
   "metadata": {},
   "source": [
    "# Normalizing the dataset"
   ]
  },
  {
   "cell_type": "code",
   "execution_count": 10,
   "id": "5de8b2dd",
   "metadata": {
    "scrolled": true
   },
   "outputs": [
    {
     "name": "stdout",
     "output_type": "stream",
     "text": [
      "Min: 80.213898, Max: 104.894997\n"
     ]
    },
    {
     "data": {
      "text/plain": [
       "array([[-0.08841181],\n",
       "       [-0.11110115],\n",
       "       [-0.05475044],\n",
       "       ...,\n",
       "       [ 0.52234745],\n",
       "       [ 0.5488291 ],\n",
       "       [ 0.5644846 ]], dtype=float32)"
      ]
     },
     "execution_count": 10,
     "metadata": {},
     "output_type": "execute_result"
    }
   ],
   "source": [
    "# Normalize time series data\n",
    "from sklearn.preprocessing import MinMaxScaler\n",
    "# prepare data for normalization\n",
    "values=dataset.to_numpy()\n",
    "values = values.reshape((len(values), 1))\n",
    "# train the normalization\n",
    "scaler = MinMaxScaler(feature_range=(-1, 1))\n",
    "scaler = scaler.fit(values)\n",
    "print('Min: %f, Max: %f' % (scaler.data_min_, scaler.data_max_))\n",
    "# normalize the dataset\n",
    "dataset = scaler.transform(values)\n",
    "dataset"
   ]
  },
  {
   "cell_type": "code",
   "execution_count": 11,
   "id": "46d1a25e",
   "metadata": {},
   "outputs": [
    {
     "data": {
      "text/plain": [
       "(1799, 1)"
      ]
     },
     "execution_count": 11,
     "metadata": {},
     "output_type": "execute_result"
    }
   ],
   "source": [
    "dataset.shape"
   ]
  },
  {
   "cell_type": "markdown",
   "id": "bd8330d3",
   "metadata": {},
   "source": [
    "# Transform time series data to supervised data"
   ]
  },
  {
   "cell_type": "code",
   "execution_count": 12,
   "id": "d364b2eb",
   "metadata": {},
   "outputs": [],
   "source": [
    "from pandas import DataFrame\n",
    "from pandas import concat\n",
    "\n",
    "def series_to_supervised(data, n_in=360, n_out=600, dropnan=True):\n",
    "    \"\"\"\n",
    "    Frame a time series as a supervised learning dataset.\n",
    "    Arguments:\n",
    "        data: Sequence of observations as a list or NumPy array.\n",
    "        n_in: Number of lag observations as input (X).\n",
    "        n_out: Number of observations as output (y).\n",
    "        dropnan: Boolean whether or not to drop rows with NaN values.\n",
    "    Returns:\n",
    "        Pandas DataFrame of series framed for supervised learning.\n",
    "    \"\"\"\n",
    "    n_vars = 1 if type(data) is list else data.shape[1]\n",
    "    df = DataFrame(data)\n",
    "    cols, names = list(), list()\n",
    "    # input sequence (t-n, ... t-1)\n",
    "    for i in range(n_in, 0, -1):\n",
    "        cols.append(df.shift(i))\n",
    "        names += [('var%d(t-%d)' % (j+1, i)) for j in range(n_vars)]\n",
    "    # forecast sequence (t, t+1, ... t+n)\n",
    "    for i in range(0, n_out):\n",
    "        cols.append(df.shift(-i))\n",
    "        if i == 0:\n",
    "            names += [('var%d(t)' % (j+1)) for j in range(n_vars)]\n",
    "        else:\n",
    "            names += [('var%d(t+%d)' % (j+1, i)) for j in range(n_vars)]\n",
    "    # put it all together\n",
    "    agg = concat(cols, axis=1)\n",
    "    agg.columns = names\n",
    "    # drop rows with NaN values\n",
    "    if dropnan:\n",
    "        agg.dropna(inplace=True)\n",
    "    return agg"
   ]
  },
  {
   "cell_type": "code",
   "execution_count": 13,
   "id": "0af140fc",
   "metadata": {
    "scrolled": true
   },
   "outputs": [
    {
     "name": "stdout",
     "output_type": "stream",
     "text": [
      "      var1(t-360)  var1(t-359)  var1(t-358)  var1(t-357)  var1(t-356)  \\\n",
      "360     -0.088412    -0.111101    -0.054750    -0.111604    -0.223268   \n",
      "361     -0.111101    -0.054750    -0.111604    -0.223268    -0.178059   \n",
      "362     -0.054750    -0.111604    -0.223268    -0.178059    -0.043090   \n",
      "363     -0.111604    -0.223268    -0.178059    -0.043090    -0.052182   \n",
      "364     -0.223268    -0.178059    -0.043090    -0.052182    -0.114537   \n",
      "...           ...          ...          ...          ...          ...   \n",
      "1195     0.740126     0.790689     0.837852     0.872210     0.873831   \n",
      "1196     0.790689     0.837852     0.872210     0.873831     0.849196   \n",
      "1197     0.837852     0.872210     0.873831     0.849196     0.858191   \n",
      "1198     0.872210     0.873831     0.849196     0.858191     0.882744   \n",
      "1199     0.873831     0.849196     0.858191     0.882744     0.906731   \n",
      "\n",
      "      var1(t-355)  var1(t-354)  var1(t-353)  var1(t-352)  var1(t-351)  ...  \\\n",
      "360     -0.178059    -0.043090    -0.052182    -0.114537    -0.048406  ...   \n",
      "361     -0.043090    -0.052182    -0.114537    -0.048406    -0.055107  ...   \n",
      "362     -0.052182    -0.114537    -0.048406    -0.055107    -0.193666  ...   \n",
      "363     -0.114537    -0.048406    -0.055107    -0.193666    -0.222822  ...   \n",
      "364     -0.048406    -0.055107    -0.193666    -0.222822    -0.073583  ...   \n",
      "...           ...          ...          ...          ...          ...  ...   \n",
      "1195     0.849196     0.858191     0.882744     0.906731     0.916292  ...   \n",
      "1196     0.858191     0.882744     0.906731     0.916292     0.892306  ...   \n",
      "1197     0.882744     0.906731     0.916292     0.892306     0.893035  ...   \n",
      "1198     0.906731     0.916292     0.892306     0.893035     0.922127  ...   \n",
      "1199     0.916292     0.892306     0.893035     0.922127     0.938171  ...   \n",
      "\n",
      "      var1(t+590)  var1(t+591)  var1(t+592)  var1(t+593)  var1(t+594)  \\\n",
      "360      0.127251     0.211470     0.248275     0.279165     0.291668   \n",
      "361      0.211470     0.248275     0.279165     0.291668     0.394192   \n",
      "362      0.248275     0.279165     0.291668     0.394192     0.476231   \n",
      "363      0.279165     0.291668     0.394192     0.476231     0.464732   \n",
      "364      0.291668     0.394192     0.476231     0.464732     0.503555   \n",
      "...           ...          ...          ...          ...          ...   \n",
      "1195     0.418243     0.444036     0.416979     0.365726     0.344810   \n",
      "1196     0.444036     0.416979     0.365726     0.344810     0.396064   \n",
      "1197     0.416979     0.365726     0.344810     0.396064     0.466191   \n",
      "1198     0.365726     0.344810     0.396064     0.466191     0.492324   \n",
      "1199     0.344810     0.396064     0.466191     0.492324     0.496716   \n",
      "\n",
      "      var1(t+595)  var1(t+596)  var1(t+597)  var1(t+598)  var1(t+599)  \n",
      "360      0.394192     0.476231     0.464732     0.503555     0.568366  \n",
      "361      0.476231     0.464732     0.503555     0.568366     0.603340  \n",
      "362      0.464732     0.503555     0.568366     0.603340     0.603340  \n",
      "363      0.503555     0.568366     0.603340     0.603340     0.603340  \n",
      "364      0.568366     0.603340     0.603340     0.603340     0.588746  \n",
      "...           ...          ...          ...          ...          ...  \n",
      "1195     0.396064     0.466191     0.492324     0.496716     0.496716  \n",
      "1196     0.466191     0.492324     0.496716     0.496716     0.496716  \n",
      "1197     0.492324     0.496716     0.496716     0.496716     0.522347  \n",
      "1198     0.496716     0.496716     0.496716     0.522347     0.548829  \n",
      "1199     0.496716     0.496716     0.522347     0.548829     0.564485  \n",
      "\n",
      "[840 rows x 960 columns]\n"
     ]
    }
   ],
   "source": [
    "data = series_to_supervised(dataset, 360, 600) #transform time series dataset to supervised datasets\n",
    "print(data)"
   ]
  },
  {
   "cell_type": "markdown",
   "id": "25647fbc",
   "metadata": {},
   "source": [
    "# split dataset into train and test sets"
   ]
  },
  {
   "cell_type": "code",
   "execution_count": 14,
   "id": "5de53b0a",
   "metadata": {
    "scrolled": false
   },
   "outputs": [
    {
     "data": {
      "text/plain": [
       "(672, (672, 960), (168, 960))"
      ]
     },
     "execution_count": 14,
     "metadata": {},
     "output_type": "execute_result"
    }
   ],
   "source": [
    "# split into train and test sets\n",
    "values = data.values\n",
    "n_train = int(len(values)*0.8) # 80% of data for training\n",
    "train = values[:n_train, :]\n",
    "test = values[n_train:, :]\n",
    "n_train, train.shape, test.shape"
   ]
  },
  {
   "cell_type": "code",
   "execution_count": 15,
   "id": "9d441313",
   "metadata": {},
   "outputs": [
    {
     "name": "stdout",
     "output_type": "stream",
     "text": [
      "class:  ndarray\n",
      "shape:  (672, 960)\n",
      "strides:  (4, 3360)\n",
      "itemsize:  4\n",
      "aligned:  True\n",
      "contiguous:  False\n",
      "fortran:  False\n",
      "data pointer: 0xd895a89040\n",
      "byteorder:  little\n",
      "byteswap:  False\n",
      "type: float32\n"
     ]
    }
   ],
   "source": [
    "np.info(train)"
   ]
  },
  {
   "cell_type": "code",
   "execution_count": 16,
   "id": "0bc928cd",
   "metadata": {},
   "outputs": [
    {
     "name": "stdout",
     "output_type": "stream",
     "text": [
      "class:  ndarray\n",
      "shape:  (168, 960)\n",
      "strides:  (4, 3360)\n",
      "itemsize:  4\n",
      "aligned:  True\n",
      "contiguous:  False\n",
      "fortran:  False\n",
      "data pointer: 0xd895a89ac0\n",
      "byteorder:  little\n",
      "byteswap:  False\n",
      "type: float32\n"
     ]
    }
   ],
   "source": [
    "np.info(test)"
   ]
  },
  {
   "cell_type": "code",
   "execution_count": 17,
   "id": "0b49aca0",
   "metadata": {},
   "outputs": [
    {
     "name": "stdout",
     "output_type": "stream",
     "text": [
      "class:  ndarray\n",
      "shape:  (672, 600)\n",
      "strides:  (4, 3360)\n",
      "itemsize:  4\n",
      "aligned:  True\n",
      "contiguous:  False\n",
      "fortran:  False\n",
      "data pointer: 0xd895bb0540\n",
      "byteorder:  little\n",
      "byteswap:  False\n",
      "type: float32\n"
     ]
    }
   ],
   "source": [
    "np.info(train[:, -600:])"
   ]
  },
  {
   "cell_type": "markdown",
   "id": "a138f9d5",
   "metadata": {},
   "source": [
    "# split train and test sets into input and outputs"
   ]
  },
  {
   "cell_type": "code",
   "execution_count": 18,
   "id": "72084d23",
   "metadata": {
    "scrolled": true
   },
   "outputs": [
    {
     "data": {
      "text/plain": [
       "((672, 360), (672, 600))"
      ]
     },
     "execution_count": 18,
     "metadata": {},
     "output_type": "execute_result"
    }
   ],
   "source": [
    "# split into input and outputs\n",
    "train_X, train_y = train[:, :-600], train[:, -600:] #600 is the number of outpout\n",
    "test_X, test_y = test[:, :-600], test[:, -600:]\n",
    "train_X.shape, train_y.shape"
   ]
  },
  {
   "cell_type": "markdown",
   "id": "205428db",
   "metadata": {},
   "source": [
    "# prepare data to enter the network"
   ]
  },
  {
   "cell_type": "code",
   "execution_count": 19,
   "id": "26001801",
   "metadata": {},
   "outputs": [
    {
     "name": "stdout",
     "output_type": "stream",
     "text": [
      "(672, 360, 1) (672, 600) (168, 360, 1) (168, 600)\n"
     ]
    }
   ],
   "source": [
    "# reshape input to be 3D [samples, timesteps, features]\n",
    "features =1\n",
    "train_X = train_X.reshape((train_X.shape[0], train_X.shape[1],features))\n",
    "test_X = test_X.reshape((test_X.shape[0], test_X.shape[1],features))\n",
    "print(train_X.shape, train_y.shape, test_X.shape, test_y.shape)"
   ]
  },
  {
   "cell_type": "markdown",
   "id": "3ccabcf6",
   "metadata": {},
   "source": [
    "# build the model"
   ]
  },
  {
   "cell_type": "code",
   "execution_count": 27,
   "id": "13973461",
   "metadata": {},
   "outputs": [],
   "source": [
    "from keras.models import Sequential\n",
    "from keras.layers import Dense\n",
    "from keras.layers import Flatten\n",
    "from keras.layers import LSTM\n",
    "from keras.layers import Dropout\n",
    "from keras import layers, callbacks\n",
    "from keras.layers import Dense, LSTM, Dropout, GRU, Bidirectional\n",
    "\n",
    "dropout=0.5\n",
    "units=10\n",
    "nout=600\n",
    "\n",
    "# Create BiLSTM model\n",
    "def create_model_bilstm(units):\n",
    "    model = Sequential()\n",
    "    # First layer of BiLSTM\n",
    "    model.add(Bidirectional(LSTM(units = units, activation='relu', return_sequences=True),input_shape=(train_X.shape[1], train_X.shape[2])))\n",
    "    model.add(Dropout(dropout))\n",
    "    # Second layer of BiLSTM\n",
    "    #model.add(Bidirectional(LSTM(units = units)))\n",
    "    model.add(Dense(nout))\n",
    "    #Compile model\n",
    "    model.compile(loss='mse', optimizer='adam')\n",
    "    return model\n",
    "\n",
    "\n",
    "# Create LSTM or GRU model\n",
    "def create_model(units, m):\n",
    "    model = Sequential()\n",
    "    # First layer of LSTM\n",
    "    model.add(m (units = units, activation='relu', input_shape = [train_X.shape[1], train_X.shape[2]]))\n",
    "    model.add(Dropout(dropout)) \n",
    "    # Second layer of LSTM\n",
    "    #model.add(m (units = units))                 \n",
    "    #model.add(Dropout(dropout))\n",
    "    model.add(Dense(nout)) \n",
    "    #Compile model\n",
    "    model.compile(loss='mse', optimizer='adam')\n",
    "    return model\n",
    "\n",
    "\n",
    "# BiLSTM\n",
    "model_bilstm = create_model_bilstm(units)\n",
    "\n",
    "# GRU and LSTM \n",
    "model_gru = create_model(units, GRU)\n",
    "model_lstm = create_model(units, LSTM)"
   ]
  },
  {
   "cell_type": "markdown",
   "id": "654306bb",
   "metadata": {},
   "source": [
    "# define a function to fit the model"
   ]
  },
  {
   "cell_type": "code",
   "execution_count": 28,
   "id": "ff2023ac",
   "metadata": {},
   "outputs": [
    {
     "name": "stdout",
     "output_type": "stream",
     "text": [
      "Epoch 1/10\n",
      "672/672 [==============================] - 41s 60ms/step - loss: 91032895488.0000 - val_loss: 0.2115\n",
      "Epoch 2/10\n",
      "672/672 [==============================] - 40s 60ms/step - loss: 0.2500 - val_loss: 0.2057\n",
      "Epoch 3/10\n",
      "672/672 [==============================] - 46s 68ms/step - loss: 0.2412 - val_loss: 0.2029\n",
      "Epoch 4/10\n",
      "672/672 [==============================] - 49s 73ms/step - loss: 0.2398 - val_loss: 0.2033\n",
      "Epoch 5/10\n",
      "672/672 [==============================] - 50s 75ms/step - loss: 0.2356 - val_loss: 0.2037\n",
      "Epoch 6/10\n",
      "672/672 [==============================] - 52s 78ms/step - loss: 0.2353 - val_loss: 0.2054\n",
      "Epoch 7/10\n",
      "672/672 [==============================] - 52s 77ms/step - loss: 0.2343 - val_loss: 0.2066\n",
      "Epoch 8/10\n",
      "672/672 [==============================] - 53s 79ms/step - loss: 0.2294 - val_loss: 0.2091\n",
      "Epoch 9/10\n",
      "672/672 [==============================] - 54s 80ms/step - loss: 0.2324 - val_loss: 0.2093\n",
      "Epoch 10/10\n",
      "672/672 [==============================] - 53s 79ms/step - loss: 0.2303 - val_loss: 0.2098\n"
     ]
    }
   ],
   "source": [
    "#fit models\n",
    "epoch, batch= 10,1\n",
    "def fit_model(model):\n",
    "    history = model.fit(train_X, train_y, epochs=epoch, batch_size=batch, validation_data=(test_X, test_y), verbose=1, shuffle=False)\n",
    "    return history\n",
    "\n",
    "#history_bilstm = fit_model(model_bilstm)\n",
    "history_lstm = fit_model(model_lstm)\n",
    "#history_gru = fit_model(model_gru)"
   ]
  },
  {
   "cell_type": "markdown",
   "id": "ebc28cbe",
   "metadata": {},
   "source": [
    "# plot the results"
   ]
  },
  {
   "cell_type": "code",
   "execution_count": 45,
   "id": "6d556343",
   "metadata": {},
   "outputs": [
    {
     "data": {
      "image/png": "[encoded data removed]",
      "text/plain": [
       "<Figure size 720x720 with 1 Axes>"
      ]
     },
     "metadata": {
      "needs_background": "light"
     },
     "output_type": "display_data"
    }
   ],
   "source": [
    "#plot train loss and validation loss\n",
    "def plot_loss (history, model_name):\n",
    "    plt.figure(figsize = (10, 10))\n",
    "    plt.plot(history.history['loss'])\n",
    "    plt.plot(history.history['val_loss'])\n",
    "    plt.title('Model Train vs Validation Loss for ' + model_name)\n",
    "    plt.ylabel('Loss')\n",
    "    plt.xlabel('epoch')\n",
    "    plt.legend(['Train loss', 'Validation loss'], loc='upper right')\n",
    "\n",
    "#plot_loss (history_bilstm, 'BiLSTM')\n",
    "plot_loss (history_lstm, 'LSTM')\n",
    "#plot_loss (history_gru, 'GRU')"
   ]
  },
  {
   "cell_type": "code",
   "execution_count": 30,
   "id": "50e1b1d1",
   "metadata": {},
   "outputs": [
    {
     "name": "stdout",
     "output_type": "stream",
     "text": [
      "Model: \"sequential_8\"\n",
      "_________________________________________________________________\n",
      " Layer (type)                Output Shape              Param #   \n",
      "=================================================================\n",
      " lstm_5 (LSTM)               (None, 10)                480       \n",
      "                                                                 \n",
      " dropout_8 (Dropout)         (None, 10)                0         \n",
      "                                                                 \n",
      " dense_8 (Dense)             (None, 600)               6600      \n",
      "                                                                 \n",
      "=================================================================\n",
      "Total params: 7,080\n",
      "Trainable params: 7,080\n",
      "Non-trainable params: 0\n",
      "_________________________________________________________________\n"
     ]
    }
   ],
   "source": [
    "#model_bilstm.summary()\n",
    "model_lstm.summary()\n",
    "#model_gru.summary()"
   ]
  },
  {
   "cell_type": "markdown",
   "id": "32f2ef3a",
   "metadata": {},
   "source": [
    "# make prediction"
   ]
  },
  {
   "cell_type": "code",
   "execution_count": 31,
   "id": "171f4fca",
   "metadata": {},
   "outputs": [
    {
     "data": {
      "text/plain": [
       "((168, 600), (168, 600), (168, 360))"
      ]
     },
     "execution_count": 31,
     "metadata": {},
     "output_type": "execute_result"
    }
   ],
   "source": [
    "#make prediction\n",
    "def prediction(model):\n",
    "    prediction = model.predict(test_X)\n",
    "    return prediction\n",
    "\n",
    "#prediction_bilstm = prediction(model_bilstm)\n",
    "prediction_lstm = prediction(model_lstm)\n",
    "prediction_gru = prediction(model_gru)\n",
    "test_X = test_X.reshape((test_X.shape[0], test_X.shape[1]))\n",
    "prediction_lstm.shape, prediction_gru.shape ,test_X.shape"
   ]
  },
  {
   "cell_type": "markdown",
   "id": "141fc845",
   "metadata": {},
   "source": [
    "# rescale the predictions into actual scale and calculate RMSE"
   ]
  },
  {
   "cell_type": "code",
   "execution_count": 32,
   "id": "2c733149",
   "metadata": {},
   "outputs": [
    {
     "name": "stdout",
     "output_type": "stream",
     "text": [
      "Test RMSE lstm: 2.939\n"
     ]
    },
    {
     "data": {
      "text/plain": [
       "(168,)"
      ]
     },
     "execution_count": 32,
     "metadata": {},
     "output_type": "execute_result"
    }
   ],
   "source": [
    "from numpy import concatenate\n",
    "from math import sqrt\n",
    "from sklearn.metrics import mean_squared_error\n",
    "\n",
    "# invert scaling lstm\n",
    "inv_yhat_lstm = concatenate((prediction_lstm, test_X[:, 1:]), axis=1)\n",
    "inv_yhat_lstm = scaler.inverse_transform(inv_yhat_lstm)\n",
    "inv_yhat_lstm = inv_yhat_lstm[:,0]\n",
    "\n",
    "# invert scaling gru\n",
    "#inv_yhat_gru = concatenate((prediction_gru, test_X[:, 1:]), axis=1)\n",
    "#inv_yhat_gru = scaler.inverse_transform(inv_yhat_gru)\n",
    "#inv_yhat_gru = inv_yhat_gru[:,0]\n",
    "\n",
    "# invert scaling for actual\n",
    "test_y = test_y.reshape((len(test_y), nout))\n",
    "inv_y = concatenate((test_y, test_X[:, 1:]), axis=1)\n",
    "inv_y = scaler.inverse_transform(inv_y)\n",
    "inv_y = inv_y[:,0]\n",
    "\n",
    "# calculate RMSE\n",
    "rmse_lstm = sqrt(mean_squared_error(inv_y, inv_yhat_lstm))\n",
    "#rmse_gru = sqrt(mean_squared_error(inv_y, inv_yhat_gru))\n",
    "print('Test RMSE lstm: %.3f' % rmse_lstm)\n",
    "#print('Test RMSE gru: %.3f' % rmse_gru)\n",
    "inv_yhat_lstm.shape"
   ]
  },
  {
   "cell_type": "markdown",
   "id": "8bf8dd01",
   "metadata": {},
   "source": [
    "# Define a function to calculate MAE and RMSE"
   ]
  },
  {
   "cell_type": "code",
   "execution_count": 33,
   "id": "6b3cef78",
   "metadata": {},
   "outputs": [
    {
     "name": "stdout",
     "output_type": "stream",
     "text": [
      "LSTM:\n",
      "Root Mean Square Error: 0.4580\n",
      "\n"
     ]
    }
   ],
   "source": [
    "# Define a function to calculate MAE and RMSE\n",
    "def evaluate_prediction(predictions, actual, model_name):\n",
    "    errors = predictions - actual\n",
    "    mse = np.square(errors).mean()\n",
    "    rmse = np.sqrt(mse)\n",
    "    mae = np.abs(errors).mean()\n",
    "\n",
    "    print(model_name + ':')\n",
    "    #print('Mean Absolute Error: {:.4f}'.format(mae))\n",
    "    print('Root Mean Square Error: {:.4f}'.format(rmse))\n",
    "    print('')\n",
    "\n",
    "\n",
    "#evaluate_prediction(prediction_bilstm, test_y, 'Bidirectional LSTM')\n",
    "evaluate_prediction(prediction_lstm, test_y, 'LSTM')\n",
    "#evaluate_prediction(prediction_gru, test_y, 'GRU')"
   ]
  },
  {
   "cell_type": "code",
   "execution_count": 34,
   "id": "23faf51e",
   "metadata": {},
   "outputs": [
    {
     "data": {
      "text/plain": [
       "((168,), (168,))"
      ]
     },
     "execution_count": 34,
     "metadata": {},
     "output_type": "execute_result"
    }
   ],
   "source": [
    "inv_yhat_lstm.shape, inv_y.shape"
   ]
  },
  {
   "cell_type": "markdown",
   "id": "7be26395",
   "metadata": {},
   "source": [
    "# put actual values and predicted values alltogether in a dataframe and plot them "
   ]
  },
  {
   "cell_type": "code",
   "execution_count": 46,
   "id": "e6bb1301",
   "metadata": {
    "scrolled": false
   },
   "outputs": [
    {
     "data": {
      "text/html": [
       "<div>\n",
       "<style scoped>\n",
       "    .dataframe tbody tr th:only-of-type {\n",
       "        vertical-align: middle;\n",
       "    }\n",
       "\n",
       "    .dataframe tbody tr th {\n",
       "        vertical-align: top;\n",
       "    }\n",
       "\n",
       "    .dataframe thead th {\n",
       "        text-align: right;\n",
       "    }\n",
       "</style>\n",
       "<table border=\"1\" class=\"dataframe\">\n",
       "  <thead>\n",
       "    <tr style=\"text-align: right;\">\n",
       "      <th></th>\n",
       "      <th>observation</th>\n",
       "      <th>prediction</th>\n",
       "    </tr>\n",
       "  </thead>\n",
       "  <tbody>\n",
       "    <tr>\n",
       "      <th>0</th>\n",
       "      <td>98.344498</td>\n",
       "      <td>98.624763</td>\n",
       "    </tr>\n",
       "    <tr>\n",
       "      <th>1</th>\n",
       "      <td>97.737602</td>\n",
       "      <td>98.139389</td>\n",
       "    </tr>\n",
       "    <tr>\n",
       "      <th>2</th>\n",
       "      <td>96.772797</td>\n",
       "      <td>97.718750</td>\n",
       "    </tr>\n",
       "    <tr>\n",
       "      <th>3</th>\n",
       "      <td>95.825600</td>\n",
       "      <td>97.314781</td>\n",
       "    </tr>\n",
       "    <tr>\n",
       "      <th>4</th>\n",
       "      <td>95.791298</td>\n",
       "      <td>96.922714</td>\n",
       "    </tr>\n",
       "    <tr>\n",
       "      <th>5</th>\n",
       "      <td>95.923599</td>\n",
       "      <td>96.610977</td>\n",
       "    </tr>\n",
       "    <tr>\n",
       "      <th>6</th>\n",
       "      <td>95.394203</td>\n",
       "      <td>96.367989</td>\n",
       "    </tr>\n",
       "    <tr>\n",
       "      <th>7</th>\n",
       "      <td>94.375702</td>\n",
       "      <td>96.128822</td>\n",
       "    </tr>\n",
       "    <tr>\n",
       "      <th>8</th>\n",
       "      <td>94.054199</td>\n",
       "      <td>95.862381</td>\n",
       "    </tr>\n",
       "    <tr>\n",
       "      <th>9</th>\n",
       "      <td>94.796303</td>\n",
       "      <td>95.629387</td>\n",
       "    </tr>\n",
       "    <tr>\n",
       "      <th>10</th>\n",
       "      <td>95.244797</td>\n",
       "      <td>95.533890</td>\n",
       "    </tr>\n",
       "    <tr>\n",
       "      <th>11</th>\n",
       "      <td>95.159203</td>\n",
       "      <td>95.535057</td>\n",
       "    </tr>\n",
       "    <tr>\n",
       "      <th>12</th>\n",
       "      <td>95.311600</td>\n",
       "      <td>95.539604</td>\n",
       "    </tr>\n",
       "    <tr>\n",
       "      <th>13</th>\n",
       "      <td>95.243896</td>\n",
       "      <td>95.583015</td>\n",
       "    </tr>\n",
       "    <tr>\n",
       "      <th>14</th>\n",
       "      <td>94.941498</td>\n",
       "      <td>95.622971</td>\n",
       "    </tr>\n",
       "    <tr>\n",
       "      <th>15</th>\n",
       "      <td>95.074600</td>\n",
       "      <td>95.627090</td>\n",
       "    </tr>\n",
       "    <tr>\n",
       "      <th>16</th>\n",
       "      <td>95.376900</td>\n",
       "      <td>95.663689</td>\n",
       "    </tr>\n",
       "    <tr>\n",
       "      <th>17</th>\n",
       "      <td>95.541397</td>\n",
       "      <td>95.746010</td>\n",
       "    </tr>\n",
       "    <tr>\n",
       "      <th>18</th>\n",
       "      <td>95.541397</td>\n",
       "      <td>95.843689</td>\n",
       "    </tr>\n",
       "    <tr>\n",
       "      <th>19</th>\n",
       "      <td>94.527000</td>\n",
       "      <td>95.930412</td>\n",
       "    </tr>\n",
       "  </tbody>\n",
       "</table>\n",
       "</div>"
      ],
      "text/plain": [
       "    observation  prediction\n",
       "0     98.344498   98.624763\n",
       "1     97.737602   98.139389\n",
       "2     96.772797   97.718750\n",
       "3     95.825600   97.314781\n",
       "4     95.791298   96.922714\n",
       "5     95.923599   96.610977\n",
       "6     95.394203   96.367989\n",
       "7     94.375702   96.128822\n",
       "8     94.054199   95.862381\n",
       "9     94.796303   95.629387\n",
       "10    95.244797   95.533890\n",
       "11    95.159203   95.535057\n",
       "12    95.311600   95.539604\n",
       "13    95.243896   95.583015\n",
       "14    94.941498   95.622971\n",
       "15    95.074600   95.627090\n",
       "16    95.376900   95.663689\n",
       "17    95.541397   95.746010\n",
       "18    95.541397   95.843689\n",
       "19    94.527000   95.930412"
      ]
     },
     "execution_count": 46,
     "metadata": {},
     "output_type": "execute_result"
    }
   ],
   "source": [
    "df = pd.DataFrame({'observation': inv_y, 'prediction': inv_yhat_lstm} , columns=['observation', 'prediction']) #'gru prediction2': inv_yhat_gru, 'bilstm prediction': inv_yhat_bilstm\n",
    "df.head(20)"
   ]
  },
  {
   "cell_type": "code",
   "execution_count": 47,
   "id": "34135e0b",
   "metadata": {},
   "outputs": [
    {
     "data": {
      "text/plain": [
       "[<matplotlib.lines.Line2D at 0xd89e3e8c10>,\n",
       " <matplotlib.lines.Line2D at 0xd89e3fe040>]"
      ]
     },
     "execution_count": 47,
     "metadata": {},
     "output_type": "execute_result"
    },
    {
     "data": {
      "image/png": "[encoded data removed]",
      "text/plain": [
       "<Figure size 432x288 with 1 Axes>"
      ]
     },
     "metadata": {
      "needs_background": "light"
     },
     "output_type": "display_data"
    }
   ],
   "source": [
    "plt.plot(df)"
   ]
  },
  {
   "cell_type": "markdown",
   "id": "3d2cb6af",
   "metadata": {},
   "source": [
    "# Result Interpretion:\n",
    "We can see from the above plot and dataframe that the predictions are very close to the actual values which is reasonable and shows that the network works correctly\n",
    "but it still could be more optimized "
   ]
  },
  {
   "cell_type": "code",
   "execution_count": null,
   "id": "709567ac",
   "metadata": {},
   "outputs": [],
   "source": []
  }
 ],
 "metadata": {
  "celltoolbar": "Raw Cell Format",
  "kernelspec": {
   "display_name": "Python 3 (ipykernel)",
   "language": "python",
   "name": "python3"
  },
  "language_info": {
   "codemirror_mode": {
    "name": "ipython",
    "version": 3
   },
   "file_extension": ".py",
   "mimetype": "text/x-python",
   "name": "python",
   "nbconvert_exporter": "python",
   "pygments_lexer": "ipython3",
   "version": "3.9.7"
  }
 },
 "nbformat": 4,
 "nbformat_minor": 5
}
