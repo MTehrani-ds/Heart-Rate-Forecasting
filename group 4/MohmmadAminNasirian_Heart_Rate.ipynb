{
 "cells": [
  {
   "cell_type": "code",
   "execution_count": 1,
   "metadata": {
    "id": "JL1Mu4DCHddz"
   },
   "outputs": [],
   "source": [
    "%matplotlib inline\n",
    "import numpy as np\n",
    "import pandas as pd\n",
    "import matplotlib.pyplot as plt\n",
    "import seaborn as sns; sns.set()\n",
    "import tensorflow as tf"
   ]
  },
  {
   "cell_type": "code",
   "execution_count": 2,
   "metadata": {
    "id": "yeRgoyBiH1B1"
   },
   "outputs": [],
   "source": [
    "df = pd.read_csv('/heart_rate(1).csv')"
   ]
  },
  {
   "cell_type": "code",
   "execution_count": 3,
   "metadata": {
    "colab": {
     "base_uri": "https://localhost:8080/",
     "height": 206
    },
    "id": "-w4jh8Y-IHd6",
    "outputId": "fb36aaec-f726-4c8a-87a7-dbbbe5eb62e7"
   },
   "outputs": [
    {
     "data": {
      "text/html": [
       "\n",
       "  <div id=\"df-65feeb16-f2bf-4d34-9355-5d28c4b11b9b\">\n",
       "    <div class=\"colab-df-container\">\n",
       "      <div>\n",
       "<style scoped>\n",
       "    .dataframe tbody tr th:only-of-type {\n",
       "        vertical-align: middle;\n",
       "    }\n",
       "\n",
       "    .dataframe tbody tr th {\n",
       "        vertical-align: top;\n",
       "    }\n",
       "\n",
       "    .dataframe thead th {\n",
       "        text-align: right;\n",
       "    }\n",
       "</style>\n",
       "<table border=\"1\" class=\"dataframe\">\n",
       "  <thead>\n",
       "    <tr style=\"text-align: right;\">\n",
       "      <th></th>\n",
       "      <th>T1</th>\n",
       "      <th>T2</th>\n",
       "      <th>T3</th>\n",
       "      <th>T4</th>\n",
       "    </tr>\n",
       "  </thead>\n",
       "  <tbody>\n",
       "    <tr>\n",
       "      <th>0</th>\n",
       "      <td>84.2697</td>\n",
       "      <td>91.4634</td>\n",
       "      <td>60.4839</td>\n",
       "      <td>59.2885</td>\n",
       "    </tr>\n",
       "    <tr>\n",
       "      <th>1</th>\n",
       "      <td>84.2697</td>\n",
       "      <td>91.4634</td>\n",
       "      <td>60.4839</td>\n",
       "      <td>59.2885</td>\n",
       "    </tr>\n",
       "    <tr>\n",
       "      <th>2</th>\n",
       "      <td>84.0619</td>\n",
       "      <td>91.1834</td>\n",
       "      <td>60.4606</td>\n",
       "      <td>59.2885</td>\n",
       "    </tr>\n",
       "    <tr>\n",
       "      <th>3</th>\n",
       "      <td>85.6542</td>\n",
       "      <td>91.8788</td>\n",
       "      <td>60.3391</td>\n",
       "      <td>58.8973</td>\n",
       "    </tr>\n",
       "    <tr>\n",
       "      <th>4</th>\n",
       "      <td>87.2093</td>\n",
       "      <td>91.1772</td>\n",
       "      <td>60.0762</td>\n",
       "      <td>58.4359</td>\n",
       "    </tr>\n",
       "  </tbody>\n",
       "</table>\n",
       "</div>\n",
       "      <button class=\"colab-df-convert\" onclick=\"convertToInteractive('df-65feeb16-f2bf-4d34-9355-5d28c4b11b9b')\"\n",
       "              title=\"Convert this dataframe to an interactive table.\"\n",
       "              style=\"display:none;\">\n",
       "        \n",
       "  <svg xmlns=\"http://www.w3.org/2000/svg\" height=\"24px\"viewBox=\"0 0 24 24\"\n",
       "       width=\"24px\">\n",
       "    <path d=\"M0 0h24v24H0V0z\" fill=\"none\"/>\n",
       "    <path d=\"M18.56 5.44l.94 2.06.94-2.06 2.06-.94-2.06-.94-.94-2.06-.94 2.06-2.06.94zm-11 1L8.5 8.5l.94-2.06 2.06-.94-2.06-.94L8.5 2.5l-.94 2.06-2.06.94zm10 10l.94 2.06.94-2.06 2.06-.94-2.06-.94-.94-2.06-.94 2.06-2.06.94z\"/><path d=\"M17.41 7.96l-1.37-1.37c-.4-.4-.92-.59-1.43-.59-.52 0-1.04.2-1.43.59L10.3 9.45l-7.72 7.72c-.78.78-.78 2.05 0 2.83L4 21.41c.39.39.9.59 1.41.59.51 0 1.02-.2 1.41-.59l7.78-7.78 2.81-2.81c.8-.78.8-2.07 0-2.86zM5.41 20L4 18.59l7.72-7.72 1.47 1.35L5.41 20z\"/>\n",
       "  </svg>\n",
       "      </button>\n",
       "      \n",
       "  <style>\n",
       "    .colab-df-container {\n",
       "      display:flex;\n",
       "      flex-wrap:wrap;\n",
       "      gap: 12px;\n",
       "    }\n",
       "\n",
       "    .colab-df-convert {\n",
       "      background-color: #E8F0FE;\n",
       "      border: none;\n",
       "      border-radius: 50%;\n",
       "      cursor: pointer;\n",
       "      display: none;\n",
       "      fill: #1967D2;\n",
       "      height: 32px;\n",
       "      padding: 0 0 0 0;\n",
       "      width: 32px;\n",
       "    }\n",
       "\n",
       "    .colab-df-convert:hover {\n",
       "      background-color: #E2EBFA;\n",
       "      box-shadow: 0px 1px 2px rgba(60, 64, 67, 0.3), 0px 1px 3px 1px rgba(60, 64, 67, 0.15);\n",
       "      fill: #174EA6;\n",
       "    }\n",
       "\n",
       "    [theme=dark] .colab-df-convert {\n",
       "      background-color: #3B4455;\n",
       "      fill: #D2E3FC;\n",
       "    }\n",
       "\n",
       "    [theme=dark] .colab-df-convert:hover {\n",
       "      background-color: #434B5C;\n",
       "      box-shadow: 0px 1px 3px 1px rgba(0, 0, 0, 0.15);\n",
       "      filter: drop-shadow(0px 1px 2px rgba(0, 0, 0, 0.3));\n",
       "      fill: #FFFFFF;\n",
       "    }\n",
       "  </style>\n",
       "\n",
       "      <script>\n",
       "        const buttonEl =\n",
       "          document.querySelector('#df-65feeb16-f2bf-4d34-9355-5d28c4b11b9b button.colab-df-convert');\n",
       "        buttonEl.style.display =\n",
       "          google.colab.kernel.accessAllowed ? 'block' : 'none';\n",
       "\n",
       "        async function convertToInteractive(key) {\n",
       "          const element = document.querySelector('#df-65feeb16-f2bf-4d34-9355-5d28c4b11b9b');\n",
       "          const dataTable =\n",
       "            await google.colab.kernel.invokeFunction('convertToInteractive',\n",
       "                                                     [key], {});\n",
       "          if (!dataTable) return;\n",
       "\n",
       "          const docLinkHtml = 'Like what you see? Visit the ' +\n",
       "            '<a target=\"_blank\" href=https://colab.research.google.com/notebooks/data_table.ipynb>data table notebook</a>'\n",
       "            + ' to learn more about interactive tables.';\n",
       "          element.innerHTML = '';\n",
       "          dataTable['output_type'] = 'display_data';\n",
       "          await google.colab.output.renderOutput(dataTable, element);\n",
       "          const docLink = document.createElement('div');\n",
       "          docLink.innerHTML = docLinkHtml;\n",
       "          element.appendChild(docLink);\n",
       "        }\n",
       "      </script>\n",
       "    </div>\n",
       "  </div>\n",
       "  "
      ],
      "text/plain": [
       "        T1       T2       T3       T4\n",
       "0  84.2697  91.4634  60.4839  59.2885\n",
       "1  84.2697  91.4634  60.4839  59.2885\n",
       "2  84.0619  91.1834  60.4606  59.2885\n",
       "3  85.6542  91.8788  60.3391  58.8973\n",
       "4  87.2093  91.1772  60.0762  58.4359"
      ]
     },
     "execution_count": 3,
     "metadata": {},
     "output_type": "execute_result"
    }
   ],
   "source": [
    "df.head()"
   ]
  },
  {
   "cell_type": "code",
   "execution_count": 4,
   "metadata": {
    "colab": {
     "base_uri": "https://localhost:8080/",
     "height": 206
    },
    "id": "g4bxbeOXId68",
    "outputId": "d0dbbd67-7265-4b6d-e9b5-2486eb657b48"
   },
   "outputs": [
    {
     "data": {
      "text/html": [
       "\n",
       "  <div id=\"df-71a6dca7-aefa-4672-8840-80d28aa46935\">\n",
       "    <div class=\"colab-df-container\">\n",
       "      <div>\n",
       "<style scoped>\n",
       "    .dataframe tbody tr th:only-of-type {\n",
       "        vertical-align: middle;\n",
       "    }\n",
       "\n",
       "    .dataframe tbody tr th {\n",
       "        vertical-align: top;\n",
       "    }\n",
       "\n",
       "    .dataframe thead th {\n",
       "        text-align: right;\n",
       "    }\n",
       "</style>\n",
       "<table border=\"1\" class=\"dataframe\">\n",
       "  <thead>\n",
       "    <tr style=\"text-align: right;\">\n",
       "      <th></th>\n",
       "      <th>T1</th>\n",
       "      <th>T2</th>\n",
       "      <th>T3</th>\n",
       "      <th>T4</th>\n",
       "    </tr>\n",
       "  </thead>\n",
       "  <tbody>\n",
       "    <tr>\n",
       "      <th>1795</th>\n",
       "      <td>103.7900</td>\n",
       "      <td>98.6842</td>\n",
       "      <td>NaN</td>\n",
       "      <td>NaN</td>\n",
       "    </tr>\n",
       "    <tr>\n",
       "      <th>1796</th>\n",
       "      <td>101.6230</td>\n",
       "      <td>98.6842</td>\n",
       "      <td>NaN</td>\n",
       "      <td>NaN</td>\n",
       "    </tr>\n",
       "    <tr>\n",
       "      <th>1797</th>\n",
       "      <td>99.5679</td>\n",
       "      <td>99.0005</td>\n",
       "      <td>NaN</td>\n",
       "      <td>NaN</td>\n",
       "    </tr>\n",
       "    <tr>\n",
       "      <th>1798</th>\n",
       "      <td>99.1835</td>\n",
       "      <td>99.3273</td>\n",
       "      <td>NaN</td>\n",
       "      <td>NaN</td>\n",
       "    </tr>\n",
       "    <tr>\n",
       "      <th>1799</th>\n",
       "      <td>98.8567</td>\n",
       "      <td>99.5205</td>\n",
       "      <td>NaN</td>\n",
       "      <td>NaN</td>\n",
       "    </tr>\n",
       "  </tbody>\n",
       "</table>\n",
       "</div>\n",
       "      <button class=\"colab-df-convert\" onclick=\"convertToInteractive('df-71a6dca7-aefa-4672-8840-80d28aa46935')\"\n",
       "              title=\"Convert this dataframe to an interactive table.\"\n",
       "              style=\"display:none;\">\n",
       "        \n",
       "  <svg xmlns=\"http://www.w3.org/2000/svg\" height=\"24px\"viewBox=\"0 0 24 24\"\n",
       "       width=\"24px\">\n",
       "    <path d=\"M0 0h24v24H0V0z\" fill=\"none\"/>\n",
       "    <path d=\"M18.56 5.44l.94 2.06.94-2.06 2.06-.94-2.06-.94-.94-2.06-.94 2.06-2.06.94zm-11 1L8.5 8.5l.94-2.06 2.06-.94-2.06-.94L8.5 2.5l-.94 2.06-2.06.94zm10 10l.94 2.06.94-2.06 2.06-.94-2.06-.94-.94-2.06-.94 2.06-2.06.94z\"/><path d=\"M17.41 7.96l-1.37-1.37c-.4-.4-.92-.59-1.43-.59-.52 0-1.04.2-1.43.59L10.3 9.45l-7.72 7.72c-.78.78-.78 2.05 0 2.83L4 21.41c.39.39.9.59 1.41.59.51 0 1.02-.2 1.41-.59l7.78-7.78 2.81-2.81c.8-.78.8-2.07 0-2.86zM5.41 20L4 18.59l7.72-7.72 1.47 1.35L5.41 20z\"/>\n",
       "  </svg>\n",
       "      </button>\n",
       "      \n",
       "  <style>\n",
       "    .colab-df-container {\n",
       "      display:flex;\n",
       "      flex-wrap:wrap;\n",
       "      gap: 12px;\n",
       "    }\n",
       "\n",
       "    .colab-df-convert {\n",
       "      background-color: #E8F0FE;\n",
       "      border: none;\n",
       "      border-radius: 50%;\n",
       "      cursor: pointer;\n",
       "      display: none;\n",
       "      fill: #1967D2;\n",
       "      height: 32px;\n",
       "      padding: 0 0 0 0;\n",
       "      width: 32px;\n",
       "    }\n",
       "\n",
       "    .colab-df-convert:hover {\n",
       "      background-color: #E2EBFA;\n",
       "      box-shadow: 0px 1px 2px rgba(60, 64, 67, 0.3), 0px 1px 3px 1px rgba(60, 64, 67, 0.15);\n",
       "      fill: #174EA6;\n",
       "    }\n",
       "\n",
       "    [theme=dark] .colab-df-convert {\n",
       "      background-color: #3B4455;\n",
       "      fill: #D2E3FC;\n",
       "    }\n",
       "\n",
       "    [theme=dark] .colab-df-convert:hover {\n",
       "      background-color: #434B5C;\n",
       "      box-shadow: 0px 1px 3px 1px rgba(0, 0, 0, 0.15);\n",
       "      filter: drop-shadow(0px 1px 2px rgba(0, 0, 0, 0.3));\n",
       "      fill: #FFFFFF;\n",
       "    }\n",
       "  </style>\n",
       "\n",
       "      <script>\n",
       "        const buttonEl =\n",
       "          document.querySelector('#df-71a6dca7-aefa-4672-8840-80d28aa46935 button.colab-df-convert');\n",
       "        buttonEl.style.display =\n",
       "          google.colab.kernel.accessAllowed ? 'block' : 'none';\n",
       "\n",
       "        async function convertToInteractive(key) {\n",
       "          const element = document.querySelector('#df-71a6dca7-aefa-4672-8840-80d28aa46935');\n",
       "          const dataTable =\n",
       "            await google.colab.kernel.invokeFunction('convertToInteractive',\n",
       "                                                     [key], {});\n",
       "          if (!dataTable) return;\n",
       "\n",
       "          const docLinkHtml = 'Like what you see? Visit the ' +\n",
       "            '<a target=\"_blank\" href=https://colab.research.google.com/notebooks/data_table.ipynb>data table notebook</a>'\n",
       "            + ' to learn more about interactive tables.';\n",
       "          element.innerHTML = '';\n",
       "          dataTable['output_type'] = 'display_data';\n",
       "          await google.colab.output.renderOutput(dataTable, element);\n",
       "          const docLink = document.createElement('div');\n",
       "          docLink.innerHTML = docLinkHtml;\n",
       "          element.appendChild(docLink);\n",
       "        }\n",
       "      </script>\n",
       "    </div>\n",
       "  </div>\n",
       "  "
      ],
      "text/plain": [
       "            T1       T2  T3  T4\n",
       "1795  103.7900  98.6842 NaN NaN\n",
       "1796  101.6230  98.6842 NaN NaN\n",
       "1797   99.5679  99.0005 NaN NaN\n",
       "1798   99.1835  99.3273 NaN NaN\n",
       "1799   98.8567  99.5205 NaN NaN"
      ]
     },
     "execution_count": 4,
     "metadata": {},
     "output_type": "execute_result"
    }
   ],
   "source": [
    "df.tail()"
   ]
  },
  {
   "cell_type": "code",
   "execution_count": 5,
   "metadata": {
    "colab": {
     "base_uri": "https://localhost:8080/",
     "height": 206
    },
    "id": "itM3DIJCIgAg",
    "outputId": "17c608b8-f5d0-45be-abe7-0dfc0faf8607"
   },
   "outputs": [
    {
     "data": {
      "text/html": [
       "\n",
       "  <div id=\"df-ef5f9894-f432-403e-8468-fafc41c85b0b\">\n",
       "    <div class=\"colab-df-container\">\n",
       "      <div>\n",
       "<style scoped>\n",
       "    .dataframe tbody tr th:only-of-type {\n",
       "        vertical-align: middle;\n",
       "    }\n",
       "\n",
       "    .dataframe tbody tr th {\n",
       "        vertical-align: top;\n",
       "    }\n",
       "\n",
       "    .dataframe thead th {\n",
       "        text-align: right;\n",
       "    }\n",
       "</style>\n",
       "<table border=\"1\" class=\"dataframe\">\n",
       "  <thead>\n",
       "    <tr style=\"text-align: right;\">\n",
       "      <th></th>\n",
       "      <th>T1</th>\n",
       "      <th>T2</th>\n",
       "    </tr>\n",
       "  </thead>\n",
       "  <tbody>\n",
       "    <tr>\n",
       "      <th>0</th>\n",
       "      <td>84.2697</td>\n",
       "      <td>91.4634</td>\n",
       "    </tr>\n",
       "    <tr>\n",
       "      <th>1</th>\n",
       "      <td>84.2697</td>\n",
       "      <td>91.4634</td>\n",
       "    </tr>\n",
       "    <tr>\n",
       "      <th>2</th>\n",
       "      <td>84.0619</td>\n",
       "      <td>91.1834</td>\n",
       "    </tr>\n",
       "    <tr>\n",
       "      <th>3</th>\n",
       "      <td>85.6542</td>\n",
       "      <td>91.8788</td>\n",
       "    </tr>\n",
       "    <tr>\n",
       "      <th>4</th>\n",
       "      <td>87.2093</td>\n",
       "      <td>91.1772</td>\n",
       "    </tr>\n",
       "  </tbody>\n",
       "</table>\n",
       "</div>\n",
       "      <button class=\"colab-df-convert\" onclick=\"convertToInteractive('df-ef5f9894-f432-403e-8468-fafc41c85b0b')\"\n",
       "              title=\"Convert this dataframe to an interactive table.\"\n",
       "              style=\"display:none;\">\n",
       "        \n",
       "  <svg xmlns=\"http://www.w3.org/2000/svg\" height=\"24px\"viewBox=\"0 0 24 24\"\n",
       "       width=\"24px\">\n",
       "    <path d=\"M0 0h24v24H0V0z\" fill=\"none\"/>\n",
       "    <path d=\"M18.56 5.44l.94 2.06.94-2.06 2.06-.94-2.06-.94-.94-2.06-.94 2.06-2.06.94zm-11 1L8.5 8.5l.94-2.06 2.06-.94-2.06-.94L8.5 2.5l-.94 2.06-2.06.94zm10 10l.94 2.06.94-2.06 2.06-.94-2.06-.94-.94-2.06-.94 2.06-2.06.94z\"/><path d=\"M17.41 7.96l-1.37-1.37c-.4-.4-.92-.59-1.43-.59-.52 0-1.04.2-1.43.59L10.3 9.45l-7.72 7.72c-.78.78-.78 2.05 0 2.83L4 21.41c.39.39.9.59 1.41.59.51 0 1.02-.2 1.41-.59l7.78-7.78 2.81-2.81c.8-.78.8-2.07 0-2.86zM5.41 20L4 18.59l7.72-7.72 1.47 1.35L5.41 20z\"/>\n",
       "  </svg>\n",
       "      </button>\n",
       "      \n",
       "  <style>\n",
       "    .colab-df-container {\n",
       "      display:flex;\n",
       "      flex-wrap:wrap;\n",
       "      gap: 12px;\n",
       "    }\n",
       "\n",
       "    .colab-df-convert {\n",
       "      background-color: #E8F0FE;\n",
       "      border: none;\n",
       "      border-radius: 50%;\n",
       "      cursor: pointer;\n",
       "      display: none;\n",
       "      fill: #1967D2;\n",
       "      height: 32px;\n",
       "      padding: 0 0 0 0;\n",
       "      width: 32px;\n",
       "    }\n",
       "\n",
       "    .colab-df-convert:hover {\n",
       "      background-color: #E2EBFA;\n",
       "      box-shadow: 0px 1px 2px rgba(60, 64, 67, 0.3), 0px 1px 3px 1px rgba(60, 64, 67, 0.15);\n",
       "      fill: #174EA6;\n",
       "    }\n",
       "\n",
       "    [theme=dark] .colab-df-convert {\n",
       "      background-color: #3B4455;\n",
       "      fill: #D2E3FC;\n",
       "    }\n",
       "\n",
       "    [theme=dark] .colab-df-convert:hover {\n",
       "      background-color: #434B5C;\n",
       "      box-shadow: 0px 1px 3px 1px rgba(0, 0, 0, 0.15);\n",
       "      filter: drop-shadow(0px 1px 2px rgba(0, 0, 0, 0.3));\n",
       "      fill: #FFFFFF;\n",
       "    }\n",
       "  </style>\n",
       "\n",
       "      <script>\n",
       "        const buttonEl =\n",
       "          document.querySelector('#df-ef5f9894-f432-403e-8468-fafc41c85b0b button.colab-df-convert');\n",
       "        buttonEl.style.display =\n",
       "          google.colab.kernel.accessAllowed ? 'block' : 'none';\n",
       "\n",
       "        async function convertToInteractive(key) {\n",
       "          const element = document.querySelector('#df-ef5f9894-f432-403e-8468-fafc41c85b0b');\n",
       "          const dataTable =\n",
       "            await google.colab.kernel.invokeFunction('convertToInteractive',\n",
       "                                                     [key], {});\n",
       "          if (!dataTable) return;\n",
       "\n",
       "          const docLinkHtml = 'Like what you see? Visit the ' +\n",
       "            '<a target=\"_blank\" href=https://colab.research.google.com/notebooks/data_table.ipynb>data table notebook</a>'\n",
       "            + ' to learn more about interactive tables.';\n",
       "          element.innerHTML = '';\n",
       "          dataTable['output_type'] = 'display_data';\n",
       "          await google.colab.output.renderOutput(dataTable, element);\n",
       "          const docLink = document.createElement('div');\n",
       "          docLink.innerHTML = docLinkHtml;\n",
       "          element.appendChild(docLink);\n",
       "        }\n",
       "      </script>\n",
       "    </div>\n",
       "  </div>\n",
       "  "
      ],
      "text/plain": [
       "        T1       T2\n",
       "0  84.2697  91.4634\n",
       "1  84.2697  91.4634\n",
       "2  84.0619  91.1834\n",
       "3  85.6542  91.8788\n",
       "4  87.2093  91.1772"
      ]
     },
     "execution_count": 5,
     "metadata": {},
     "output_type": "execute_result"
    }
   ],
   "source": [
    "df1 = df.iloc[:,:2]\n",
    "df1.head()"
   ]
  },
  {
   "cell_type": "code",
   "execution_count": 6,
   "metadata": {
    "colab": {
     "base_uri": "https://localhost:8080/",
     "height": 300
    },
    "id": "9zKjn0AHJgK0",
    "outputId": "4baedef4-ed9a-4011-b79a-b866ff6211f8"
   },
   "outputs": [
    {
     "data": {
      "text/html": [
       "\n",
       "  <div id=\"df-73e29bc7-7504-4502-b31b-de508e7908b0\">\n",
       "    <div class=\"colab-df-container\">\n",
       "      <div>\n",
       "<style scoped>\n",
       "    .dataframe tbody tr th:only-of-type {\n",
       "        vertical-align: middle;\n",
       "    }\n",
       "\n",
       "    .dataframe tbody tr th {\n",
       "        vertical-align: top;\n",
       "    }\n",
       "\n",
       "    .dataframe thead th {\n",
       "        text-align: right;\n",
       "    }\n",
       "</style>\n",
       "<table border=\"1\" class=\"dataframe\">\n",
       "  <thead>\n",
       "    <tr style=\"text-align: right;\">\n",
       "      <th></th>\n",
       "      <th>T1</th>\n",
       "      <th>T2</th>\n",
       "    </tr>\n",
       "  </thead>\n",
       "  <tbody>\n",
       "    <tr>\n",
       "      <th>count</th>\n",
       "      <td>1800.000000</td>\n",
       "      <td>1800.000000</td>\n",
       "    </tr>\n",
       "    <tr>\n",
       "      <th>mean</th>\n",
       "      <td>92.596114</td>\n",
       "      <td>96.637474</td>\n",
       "    </tr>\n",
       "    <tr>\n",
       "      <th>std</th>\n",
       "      <td>5.489339</td>\n",
       "      <td>5.687179</td>\n",
       "    </tr>\n",
       "    <tr>\n",
       "      <th>min</th>\n",
       "      <td>73.436600</td>\n",
       "      <td>80.213900</td>\n",
       "    </tr>\n",
       "    <tr>\n",
       "      <th>25%</th>\n",
       "      <td>88.847400</td>\n",
       "      <td>92.418925</td>\n",
       "    </tr>\n",
       "    <tr>\n",
       "      <th>50%</th>\n",
       "      <td>92.205400</td>\n",
       "      <td>98.238450</td>\n",
       "    </tr>\n",
       "    <tr>\n",
       "      <th>75%</th>\n",
       "      <td>96.399025</td>\n",
       "      <td>101.362750</td>\n",
       "    </tr>\n",
       "    <tr>\n",
       "      <th>max</th>\n",
       "      <td>106.756000</td>\n",
       "      <td>104.895000</td>\n",
       "    </tr>\n",
       "  </tbody>\n",
       "</table>\n",
       "</div>\n",
       "      <button class=\"colab-df-convert\" onclick=\"convertToInteractive('df-73e29bc7-7504-4502-b31b-de508e7908b0')\"\n",
       "              title=\"Convert this dataframe to an interactive table.\"\n",
       "              style=\"display:none;\">\n",
       "        \n",
       "  <svg xmlns=\"http://www.w3.org/2000/svg\" height=\"24px\"viewBox=\"0 0 24 24\"\n",
       "       width=\"24px\">\n",
       "    <path d=\"M0 0h24v24H0V0z\" fill=\"none\"/>\n",
       "    <path d=\"M18.56 5.44l.94 2.06.94-2.06 2.06-.94-2.06-.94-.94-2.06-.94 2.06-2.06.94zm-11 1L8.5 8.5l.94-2.06 2.06-.94-2.06-.94L8.5 2.5l-.94 2.06-2.06.94zm10 10l.94 2.06.94-2.06 2.06-.94-2.06-.94-.94-2.06-.94 2.06-2.06.94z\"/><path d=\"M17.41 7.96l-1.37-1.37c-.4-.4-.92-.59-1.43-.59-.52 0-1.04.2-1.43.59L10.3 9.45l-7.72 7.72c-.78.78-.78 2.05 0 2.83L4 21.41c.39.39.9.59 1.41.59.51 0 1.02-.2 1.41-.59l7.78-7.78 2.81-2.81c.8-.78.8-2.07 0-2.86zM5.41 20L4 18.59l7.72-7.72 1.47 1.35L5.41 20z\"/>\n",
       "  </svg>\n",
       "      </button>\n",
       "      \n",
       "  <style>\n",
       "    .colab-df-container {\n",
       "      display:flex;\n",
       "      flex-wrap:wrap;\n",
       "      gap: 12px;\n",
       "    }\n",
       "\n",
       "    .colab-df-convert {\n",
       "      background-color: #E8F0FE;\n",
       "      border: none;\n",
       "      border-radius: 50%;\n",
       "      cursor: pointer;\n",
       "      display: none;\n",
       "      fill: #1967D2;\n",
       "      height: 32px;\n",
       "      padding: 0 0 0 0;\n",
       "      width: 32px;\n",
       "    }\n",
       "\n",
       "    .colab-df-convert:hover {\n",
       "      background-color: #E2EBFA;\n",
       "      box-shadow: 0px 1px 2px rgba(60, 64, 67, 0.3), 0px 1px 3px 1px rgba(60, 64, 67, 0.15);\n",
       "      fill: #174EA6;\n",
       "    }\n",
       "\n",
       "    [theme=dark] .colab-df-convert {\n",
       "      background-color: #3B4455;\n",
       "      fill: #D2E3FC;\n",
       "    }\n",
       "\n",
       "    [theme=dark] .colab-df-convert:hover {\n",
       "      background-color: #434B5C;\n",
       "      box-shadow: 0px 1px 3px 1px rgba(0, 0, 0, 0.15);\n",
       "      filter: drop-shadow(0px 1px 2px rgba(0, 0, 0, 0.3));\n",
       "      fill: #FFFFFF;\n",
       "    }\n",
       "  </style>\n",
       "\n",
       "      <script>\n",
       "        const buttonEl =\n",
       "          document.querySelector('#df-73e29bc7-7504-4502-b31b-de508e7908b0 button.colab-df-convert');\n",
       "        buttonEl.style.display =\n",
       "          google.colab.kernel.accessAllowed ? 'block' : 'none';\n",
       "\n",
       "        async function convertToInteractive(key) {\n",
       "          const element = document.querySelector('#df-73e29bc7-7504-4502-b31b-de508e7908b0');\n",
       "          const dataTable =\n",
       "            await google.colab.kernel.invokeFunction('convertToInteractive',\n",
       "                                                     [key], {});\n",
       "          if (!dataTable) return;\n",
       "\n",
       "          const docLinkHtml = 'Like what you see? Visit the ' +\n",
       "            '<a target=\"_blank\" href=https://colab.research.google.com/notebooks/data_table.ipynb>data table notebook</a>'\n",
       "            + ' to learn more about interactive tables.';\n",
       "          element.innerHTML = '';\n",
       "          dataTable['output_type'] = 'display_data';\n",
       "          await google.colab.output.renderOutput(dataTable, element);\n",
       "          const docLink = document.createElement('div');\n",
       "          docLink.innerHTML = docLinkHtml;\n",
       "          element.appendChild(docLink);\n",
       "        }\n",
       "      </script>\n",
       "    </div>\n",
       "  </div>\n",
       "  "
      ],
      "text/plain": [
       "                T1           T2\n",
       "count  1800.000000  1800.000000\n",
       "mean     92.596114    96.637474\n",
       "std       5.489339     5.687179\n",
       "min      73.436600    80.213900\n",
       "25%      88.847400    92.418925\n",
       "50%      92.205400    98.238450\n",
       "75%      96.399025   101.362750\n",
       "max     106.756000   104.895000"
      ]
     },
     "execution_count": 6,
     "metadata": {},
     "output_type": "execute_result"
    }
   ],
   "source": [
    "df1.describe()"
   ]
  },
  {
   "cell_type": "code",
   "execution_count": 7,
   "metadata": {
    "colab": {
     "base_uri": "https://localhost:8080/"
    },
    "id": "lC86g2R3JgwQ",
    "outputId": "a9fe81e6-1d46-41f9-f448-9f8645eda102"
   },
   "outputs": [
    {
     "name": "stdout",
     "output_type": "stream",
     "text": [
      "<class 'pandas.core.frame.DataFrame'>\n",
      "RangeIndex: 1800 entries, 0 to 1799\n",
      "Data columns (total 2 columns):\n",
      " #   Column  Non-Null Count  Dtype  \n",
      "---  ------  --------------  -----  \n",
      " 0   T1      1800 non-null   float64\n",
      " 1   T2      1800 non-null   float64\n",
      "dtypes: float64(2)\n",
      "memory usage: 28.2 KB\n"
     ]
    }
   ],
   "source": [
    "df1.info()"
   ]
  },
  {
   "cell_type": "code",
   "execution_count": 8,
   "metadata": {
    "id": "Wm8_wrR4KdQm"
   },
   "outputs": [],
   "source": [
    "time_series = pd.date_range('2021-01-01 00:00:00',periods = 1800, freq = '0.5S')"
   ]
  },
  {
   "cell_type": "code",
   "execution_count": 9,
   "metadata": {
    "colab": {
     "base_uri": "https://localhost:8080/"
    },
    "id": "xBVuk9XvgGZX",
    "outputId": "e141eaea-187e-4eef-cc48-e87de2776982"
   },
   "outputs": [
    {
     "data": {
      "text/plain": [
       "DatetimeIndex([       '2021-01-01 00:00:00', '2021-01-01 00:00:00.500000',\n",
       "                      '2021-01-01 00:00:01', '2021-01-01 00:00:01.500000',\n",
       "                      '2021-01-01 00:00:02', '2021-01-01 00:00:02.500000',\n",
       "                      '2021-01-01 00:00:03', '2021-01-01 00:00:03.500000',\n",
       "                      '2021-01-01 00:00:04', '2021-01-01 00:00:04.500000',\n",
       "               ...\n",
       "                      '2021-01-01 00:14:55', '2021-01-01 00:14:55.500000',\n",
       "                      '2021-01-01 00:14:56', '2021-01-01 00:14:56.500000',\n",
       "                      '2021-01-01 00:14:57', '2021-01-01 00:14:57.500000',\n",
       "                      '2021-01-01 00:14:58', '2021-01-01 00:14:58.500000',\n",
       "                      '2021-01-01 00:14:59', '2021-01-01 00:14:59.500000'],\n",
       "              dtype='datetime64[ns]', length=1800, freq='500L')"
      ]
     },
     "execution_count": 9,
     "metadata": {},
     "output_type": "execute_result"
    }
   ],
   "source": [
    "time_series"
   ]
  },
  {
   "cell_type": "code",
   "execution_count": 10,
   "metadata": {
    "id": "cFZz8wkjgI1F"
   },
   "outputs": [],
   "source": [
    "df1 = df1.set_index(time_series)"
   ]
  },
  {
   "cell_type": "code",
   "execution_count": 11,
   "metadata": {
    "colab": {
     "base_uri": "https://localhost:8080/",
     "height": 417
    },
    "id": "RXciZ-H7sV1x",
    "outputId": "16e03e89-9a83-4ddd-c799-305c060f6c8f"
   },
   "outputs": [
    {
     "data": {
      "text/plain": [
       "<matplotlib.axes._subplots.AxesSubplot at 0x7f8e79fdc210>"
      ]
     },
     "execution_count": 11,
     "metadata": {},
     "output_type": "execute_result"
    },
    {
     "data": {
      "image/png": "[encoded data removed]",
      "text/plain": [
       "<Figure size 864x432 with 2 Axes>"
      ]
     },
     "metadata": {
      "needs_background": "light"
     },
     "output_type": "display_data"
    }
   ],
   "source": [
    "plt.figure(figsize = (12,6))\n",
    "plt.subplot(2,1,1)\n",
    "df1['T1'].plot()\n",
    "plt.subplot(2,1,2)\n",
    "df1['T2'].plot()"
   ]
  },
  {
   "cell_type": "code",
   "execution_count": 12,
   "metadata": {
    "colab": {
     "base_uri": "https://localhost:8080/"
    },
    "id": "ynfQMB3g1YfA",
    "outputId": "4ed8c7c1-abfc-412a-b0aa-2257210d49d1"
   },
   "outputs": [
    {
     "name": "stderr",
     "output_type": "stream",
     "text": [
      "/usr/local/lib/python3.7/dist-packages/statsmodels/tools/_testing.py:19: FutureWarning: pandas.util.testing is deprecated. Use the functions in the public API at pandas.testing instead.\n",
      "  import pandas.util.testing as tm\n"
     ]
    },
    {
     "name": "stdout",
     "output_type": "stream",
     "text": [
      "For T1:\n",
      "\n",
      "Results of Dickey-Fuller Test:\n",
      "Test Statistic                   -4.970797\n",
      "p-value                           0.000025\n",
      "#Lags Used                       16.000000\n",
      "Number of Observations Used    1783.000000\n",
      "Critical Value (1%)              -3.434023\n",
      "Critical Value (5%)              -2.863162\n",
      "Critical Value (10%)             -2.567634\n",
      "dtype: float64\n",
      "-----------------------------------------------\n",
      "For T2:\n",
      "\n",
      "Results of Dickey-Fuller Test:\n",
      "Test Statistic                -7.455368e+00\n",
      "p-value                        5.530514e-11\n",
      "#Lags Used                     2.300000e+01\n",
      "Number of Observations Used    1.776000e+03\n",
      "Critical Value (1%)           -3.434037e+00\n",
      "Critical Value (5%)           -2.863169e+00\n",
      "Critical Value (10%)          -2.567637e+00\n",
      "dtype: float64\n"
     ]
    }
   ],
   "source": [
    "#define function for ADF test\n",
    "from statsmodels.tsa.stattools import adfuller\n",
    "\n",
    "def adf_test(timeseries):\n",
    "    #Perform Dickey-Fuller test:\n",
    "    print ('Results of Dickey-Fuller Test:')\n",
    "    dftest = adfuller(timeseries, autolag='AIC')\n",
    "    dfoutput = pd.Series(dftest[0:4], index=['Test Statistic','p-value','#Lags Used','Number of Observations Used'])\n",
    "    for key,value in dftest[4].items():\n",
    "       dfoutput['Critical Value (%s)'%key] = value\n",
    "    print(dfoutput)\n",
    "\n",
    "#apply adf test on the series\n",
    "print('For T1:\\n')\n",
    "adf_test(df1['T1'])\n",
    "print('-----------------------------------------------')\n",
    "print('For T2:\\n')\n",
    "adf_test(df1['T2'])"
   ]
  },
  {
   "cell_type": "code",
   "execution_count": 13,
   "metadata": {
    "id": "_hhtbJYT1YsC"
   },
   "outputs": [],
   "source": [
    "# for T1 ADF test statistic < critical value, which implies that the series is difference stationary\n",
    "# for T2 ADF test statistic < critical value, which implies that the series is difference stationary"
   ]
  },
  {
   "cell_type": "code",
   "execution_count": 14,
   "metadata": {
    "colab": {
     "base_uri": "https://localhost:8080/"
    },
    "id": "wNaINJfs1Y2y",
    "outputId": "1097e2dd-b00e-4343-f185-e111f685abaf"
   },
   "outputs": [
    {
     "name": "stdout",
     "output_type": "stream",
     "text": [
      "For T1:\n",
      "\n",
      "Results of KPSS Test:\n",
      "Test Statistic            0.160097\n",
      "p-value                   0.100000\n",
      "Lags Used                25.000000\n",
      "Critical Value (10%)      0.347000\n",
      "Critical Value (5%)       0.463000\n",
      "Critical Value (2.5%)     0.574000\n",
      "Critical Value (1%)       0.739000\n",
      "dtype: float64\n",
      "-----------------------------------------------\n",
      "For T2:\n",
      "\n",
      "Results of KPSS Test:\n",
      "Test Statistic            0.083636\n",
      "p-value                   0.100000\n",
      "Lags Used                25.000000\n",
      "Critical Value (10%)      0.347000\n",
      "Critical Value (5%)       0.463000\n",
      "Critical Value (2.5%)     0.574000\n",
      "Critical Value (1%)       0.739000\n",
      "dtype: float64\n"
     ]
    },
    {
     "name": "stderr",
     "output_type": "stream",
     "text": [
      "/usr/local/lib/python3.7/dist-packages/statsmodels/tsa/stattools.py:1685: FutureWarning: The behavior of using lags=None will change in the next release. Currently lags=None is the same as lags='legacy', and so a sample-size lag length is used. After the next release, the default will change to be the same as lags='auto' which uses an automatic lag length selection method. To silence this warning, either use 'auto' or 'legacy'\n",
      "  warn(msg, FutureWarning)\n",
      "/usr/local/lib/python3.7/dist-packages/statsmodels/tsa/stattools.py:1711: InterpolationWarning: p-value is greater than the indicated p-value\n",
      "  warn(\"p-value is greater than the indicated p-value\", InterpolationWarning)\n",
      "/usr/local/lib/python3.7/dist-packages/statsmodels/tsa/stattools.py:1711: InterpolationWarning: p-value is greater than the indicated p-value\n",
      "  warn(\"p-value is greater than the indicated p-value\", InterpolationWarning)\n"
     ]
    }
   ],
   "source": [
    "#define function for kpss test\n",
    "from statsmodels.tsa.stattools import kpss\n",
    "#define KPSS\n",
    "def kpss_test(timeseries):\n",
    "    print ('Results of KPSS Test:')\n",
    "    kpsstest = kpss(timeseries, regression='c')\n",
    "    kpss_output = pd.Series(kpsstest[0:3], index=['Test Statistic','p-value','Lags Used'])\n",
    "    for key,value in kpsstest[3].items():\n",
    "        kpss_output['Critical Value (%s)'%key] = value\n",
    "    print(kpss_output)\n",
    "#apply adf test on the series\n",
    "print('For T1:\\n')\n",
    "kpss_test(df1['T1'])\n",
    "print('-----------------------------------------------')\n",
    "print('For T2:\\n')\n",
    "kpss_test(df1['T2'])"
   ]
  },
  {
   "cell_type": "code",
   "execution_count": 15,
   "metadata": {
    "id": "JPMMvra9-CI-"
   },
   "outputs": [],
   "source": [
    "# for T1 KPSS test statistic < critical value, which implies that the series is stationary\n",
    "# for T2 KPSS test statistic < critical value, which implies that the series is stationary"
   ]
  },
  {
   "cell_type": "code",
   "execution_count": 16,
   "metadata": {
    "id": "d3ybKwTo-tOy"
   },
   "outputs": [],
   "source": [
    "# for T1 Both tests conclude that the series is stationary -> series is stationary\n",
    "# for T2 Both tests conclude that the series is stationary -> series is stationary\n",
    "# also our data is stationary by the matter of the tests, but we use differencing method in order to\n",
    "# follow the articles sections"
   ]
  },
  {
   "cell_type": "code",
   "execution_count": 17,
   "metadata": {
    "colab": {
     "base_uri": "https://localhost:8080/",
     "height": 391
    },
    "id": "1L_3XN0xvVYO",
    "outputId": "934cda79-8196-49a8-f9b6-7f07c7d8b206"
   },
   "outputs": [
    {
     "data": {
      "text/plain": [
       "<matplotlib.axes._subplots.AxesSubplot at 0x7f8e7a0b3910>"
      ]
     },
     "execution_count": 17,
     "metadata": {},
     "output_type": "execute_result"
    },
    {
     "data": {
      "image/png": "[encoded data removed]",
      "text/plain": [
       "<Figure size 864x432 with 1 Axes>"
      ]
     },
     "metadata": {
      "needs_background": "light"
     },
     "output_type": "display_data"
    }
   ],
   "source": [
    "plt.figure(figsize = (12,6))\n",
    "df1['T1_stat'] = df1['T1'] - df1['T1'].shift(1)\n",
    "df1['T1_stat'].dropna().plot()"
   ]
  },
  {
   "cell_type": "code",
   "execution_count": 18,
   "metadata": {
    "colab": {
     "base_uri": "https://localhost:8080/",
     "height": 391
    },
    "id": "bJSdRqFm0kT5",
    "outputId": "e2e79804-0f62-4057-8e54-f19cf1ffdf22"
   },
   "outputs": [
    {
     "data": {
      "text/plain": [
       "<matplotlib.axes._subplots.AxesSubplot at 0x7f8e754934d0>"
      ]
     },
     "execution_count": 18,
     "metadata": {},
     "output_type": "execute_result"
    },
    {
     "data": {
      "image/png": "[encoded data removed]",
      "text/plain": [
       "<Figure size 864x432 with 1 Axes>"
      ]
     },
     "metadata": {
      "needs_background": "light"
     },
     "output_type": "display_data"
    }
   ],
   "source": [
    "plt.figure(figsize = (12,6))\n",
    "df1['T2_stat'] = df1['T2'] - df1['T2'].shift(1)\n",
    "df1['T2_stat'].dropna().plot()"
   ]
  },
  {
   "cell_type": "code",
   "execution_count": 54,
   "metadata": {
    "colab": {
     "base_uri": "https://localhost:8080/"
    },
    "id": "obaV2Xk6rASA",
    "outputId": "af5e5509-bd53-44c1-dfd5-f33f32595a89"
   },
   "outputs": [
    {
     "name": "stderr",
     "output_type": "stream",
     "text": [
      "/usr/local/lib/python3.7/dist-packages/ipykernel_launcher.py:9: FutureWarning: Support for multi-dimensional indexing (e.g. `obj[:, None]`) is deprecated and will be removed in a future version.  Convert to a numpy array before indexing instead.\n",
      "  if __name__ == '__main__':\n",
      "/usr/local/lib/python3.7/dist-packages/ipykernel_launcher.py:10: FutureWarning: Support for multi-dimensional indexing (e.g. `obj[:, None]`) is deprecated and will be removed in a future version.  Convert to a numpy array before indexing instead.\n",
      "  # Remove the CWD from sys.path while we load stuff.\n",
      "/usr/local/lib/python3.7/dist-packages/ipykernel_launcher.py:11: FutureWarning: Support for multi-dimensional indexing (e.g. `obj[:, None]`) is deprecated and will be removed in a future version.  Convert to a numpy array before indexing instead.\n",
      "  # This is added back by InteractiveShellApp.init_path()\n"
     ]
    }
   ],
   "source": [
    "from sklearn.model_selection import train_test_split\n",
    "from sklearn.preprocessing import MinMaxScaler\n",
    "\n",
    "X = df1[['T1_stat','T2_stat']].dropna().index\n",
    "y = df1[['T1_stat','T2_stat']].dropna()\n",
    "X_train, X_test, y_train, y_test = train_test_split(X, y, test_size = 0.2, random_state = 42)\n",
    "scaler = MinMaxScaler()\n",
    "\n",
    "scaler.fit(X_train[:,None])\n",
    "X_train = scaler.transform(X_train[:,None])\n",
    "X_test = scaler.transform(X_test[:,None])\n",
    "\n",
    "scaler.fit(y_train.values)\n",
    "y_train = scaler.transform(y_train.values)\n",
    "y_test = scaler.transform(y_test.values)\n",
    "\n",
    "y_train_df = pd.DataFrame(y_train)\n",
    "y_test_df = pd.DataFrame(y_test)\n",
    "\n",
    "X_train_df = pd.DataFrame(X_train)\n",
    "X_test_df = pd.DataFrame(X_test)"
   ]
  },
  {
   "cell_type": "code",
   "execution_count": 55,
   "metadata": {
    "colab": {
     "base_uri": "https://localhost:8080/"
    },
    "id": "7pVV2tBS1Co8",
    "outputId": "3c8bead0-5bfa-46df-f40b-33bd4c8f2cc3"
   },
   "outputs": [
    {
     "name": "stdout",
     "output_type": "stream",
     "text": [
      "Test set equal: True\n"
     ]
    }
   ],
   "source": [
    "BATCH_SIZE = 64\n",
    "BUFFER_SIZE = 100\n",
    "WINDOW_LENGTH = 30\n",
    "\n",
    "\n",
    "def window_data(X, Y, window=7):\n",
    "    '''\n",
    "    The dataset length will be reduced to guarante all samples have the window, \n",
    "    so new length will be len(dataset)-window\n",
    "    '''\n",
    "    x = []\n",
    "    y = []\n",
    "    for i in range(window-1, len(X)):\n",
    "        x.append(X[i-window+1:i+1])\n",
    "        y.append(Y[i])\n",
    "    return np.array(x), np.array(y)\n",
    "\n",
    "\n",
    "X_w = np.concatenate((X_train, X_test))\n",
    "y_w = np.concatenate((y_train, y_test))\n",
    "\n",
    "X_w, y_w = window_data(X_w, y_w, window=WINDOW_LENGTH)\n",
    "\n",
    "X_train_w = X_w[:-len(X_test)]\n",
    "y_train_w = y_w[:-len(X_test)]\n",
    "X_test_w = X_w[-len(X_test):]\n",
    "y_test_w = y_w[-len(X_test):]\n",
    "\n",
    "print(f\"Test set equal: {np.array_equal(y_test_w,y_test)}\")\n",
    "\n",
    "train_data = tf.data.Dataset.from_tensor_slices((X_train_w, y_train_w))\n",
    "train_data = train_data.cache().shuffle(BUFFER_SIZE).batch(BATCH_SIZE).repeat()\n",
    "\n",
    "val_data = tf.data.Dataset.from_tensor_slices((X_test_w, y_test_w))\n",
    "val_data = val_data.batch(BATCH_SIZE).repeat()\n"
   ]
  },
  {
   "cell_type": "code",
   "execution_count": 21,
   "metadata": {
    "id": "WdzxWnxu6YUG"
   },
   "outputs": [],
   "source": [
    "import tensorflow as tf"
   ]
  },
  {
   "cell_type": "code",
   "execution_count": 60,
   "metadata": {
    "colab": {
     "base_uri": "https://localhost:8080/"
    },
    "id": "ZvzVBShz7AHJ",
    "outputId": "7780066b-ac13-4bd3-fe36-773ef0f708fc"
   },
   "outputs": [
    {
     "name": "stdout",
     "output_type": "stream",
     "text": [
      "Epoch 1/10\n",
      "200/200 [==============================] - 16s 58ms/step - loss: 0.0109 - val_loss: 0.0070\n",
      "Epoch 2/10\n",
      "200/200 [==============================] - 11s 55ms/step - loss: 0.0044 - val_loss: 0.0048\n",
      "Epoch 3/10\n",
      "200/200 [==============================] - 11s 56ms/step - loss: 0.0041 - val_loss: 0.0047\n",
      "Epoch 4/10\n",
      "200/200 [==============================] - 11s 55ms/step - loss: 0.0040 - val_loss: 0.0056\n",
      "Epoch 5/10\n",
      "200/200 [==============================] - 11s 55ms/step - loss: 0.0039 - val_loss: 0.0047\n",
      "Epoch 6/10\n",
      "200/200 [==============================] - 11s 56ms/step - loss: 0.0038 - val_loss: 0.0047\n",
      "Epoch 7/10\n",
      "200/200 [==============================] - 11s 56ms/step - loss: 0.0039 - val_loss: 0.0053\n",
      "Epoch 8/10\n",
      "200/200 [==============================] - 11s 56ms/step - loss: 0.0038 - val_loss: 0.0047\n",
      "Epoch 9/10\n",
      "200/200 [==============================] - 11s 55ms/step - loss: 0.0038 - val_loss: 0.0047\n",
      "Epoch 10/10\n",
      "200/200 [==============================] - 11s 55ms/step - loss: 0.0038 - val_loss: 0.0048\n"
     ]
    }
   ],
   "source": [
    "dropout = 0.0\n",
    "simple_lstm_model = tf.keras.models.Sequential([\n",
    "    tf.keras.layers.LSTM(\n",
    "        128, input_shape=X_train_w.shape[-2:], dropout=dropout),\n",
    "    tf.keras.layers.Dense(128, activation = 'relu'),\n",
    "    tf.keras.layers.Dense(128, activation = 'relu'),\n",
    "    tf.keras.layers.Dense(128, activation = 'relu'),\n",
    "    tf.keras.layers.Dense(1, activation = 'relu')\n",
    "])\n",
    "\n",
    "simple_lstm_model.compile(optimizer='rmsprop', loss='mse')\n",
    "\n",
    "EVALUATION_INTERVAL = 200\n",
    "EPOCHS = 10\n",
    "\n",
    "model_history = simple_lstm_model.fit(train_data, epochs=EPOCHS,\n",
    "                                      steps_per_epoch=EVALUATION_INTERVAL,\n",
    "                                      validation_data=val_data, validation_steps=50)  # ,callbacks=[tensorboard_callback]) #Uncomment this line for tensorboard support\n"
   ]
  },
  {
   "cell_type": "code",
   "execution_count": 65,
   "metadata": {
    "id": "hpEPz9zH7ptc"
   },
   "outputs": [],
   "source": [
    "yhat = simple_lstm_model.predict(X_test_w).reshape(1, -1)[0]\n",
    "#resultsDict['Tensorflow simple LSTM'] = evaluate(y_test, yhat)\n",
    "#predictionsDict['Tensorflow simple LSTM'] = yhat"
   ]
  },
  {
   "cell_type": "code",
   "execution_count": 66,
   "metadata": {
    "colab": {
     "base_uri": "https://localhost:8080/"
    },
    "id": "VjPabjQqdv7u",
    "outputId": "deae5d95-8114-4f7a-f125-074655080103"
   },
   "outputs": [
    {
     "data": {
      "text/plain": [
       "array([0.5161228 , 0.5167502 , 0.5175026 , 0.5143834 , 0.51077425,\n",
       "       0.5058921 , 0.505382  , 0.5067942 , 0.5033282 , 0.49892303,\n",
       "       0.50356495, 0.5057665 , 0.5126981 , 0.51022965, 0.509023  ,\n",
       "       0.51217186, 0.5156688 , 0.5211351 , 0.51224   , 0.5074631 ,\n",
       "       0.5081327 , 0.50741595, 0.51292783, 0.5075096 , 0.505177  ,\n",
       "       0.5093163 , 0.5110396 , 0.5142265 , 0.51247436, 0.51171017,\n",
       "       0.5122539 , 0.5129779 , 0.5134825 , 0.51361936, 0.51466024,\n",
       "       0.51299673, 0.51246977, 0.51102304, 0.5113518 , 0.5118295 ,\n",
       "       0.51482594, 0.51531607, 0.5168616 , 0.5172343 , 0.50985414,\n",
       "       0.5073438 , 0.50519276, 0.50508   , 0.50539786, 0.5014028 ,\n",
       "       0.5070924 , 0.50489724, 0.5061647 , 0.5114747 , 0.5161603 ,\n",
       "       0.521493  , 0.52752775, 0.51214534, 0.51210374, 0.52133185,\n",
       "       0.5145581 , 0.51416194, 0.51573974, 0.5117693 , 0.51133066,\n",
       "       0.5154763 , 0.51712173, 0.51719767, 0.51725715, 0.51830196,\n",
       "       0.51476467, 0.5184368 , 0.5184925 , 0.51022226, 0.50855166,\n",
       "       0.5110169 , 0.51135164, 0.50596464, 0.5114257 , 0.50731987,\n",
       "       0.5147389 , 0.52058333, 0.51105815, 0.5243973 , 0.526673  ,\n",
       "       0.52571404, 0.5165715 , 0.52066696, 0.5194261 , 0.51665044,\n",
       "       0.5166515 , 0.5151844 , 0.51437116, 0.51361334, 0.51648563,\n",
       "       0.51475513, 0.5150594 , 0.5133295 , 0.50759804, 0.5090406 ,\n",
       "       0.50445944, 0.50827473, 0.52178395, 0.52640146, 0.5082606 ,\n",
       "       0.50726444, 0.5099907 , 0.51428926, 0.51647043, 0.5190059 ,\n",
       "       0.5202627 , 0.5147688 , 0.51233065, 0.5038646 , 0.5035485 ,\n",
       "       0.52321976, 0.514469  , 0.5083087 , 0.50682664, 0.5076545 ,\n",
       "       0.5093711 , 0.50595206, 0.50821394, 0.5116896 , 0.5126471 ,\n",
       "       0.5149059 , 0.51589465, 0.51634073, 0.5139372 , 0.5074287 ,\n",
       "       0.5006009 , 0.49997726, 0.51005983, 0.51546025, 0.5169228 ,\n",
       "       0.51693505, 0.5216075 , 0.52563745, 0.5138581 , 0.50450903,\n",
       "       0.5154594 , 0.5115864 , 0.5121875 , 0.51289326, 0.51257277,\n",
       "       0.5130794 , 0.51431566, 0.51337737, 0.512073  , 0.50965667,\n",
       "       0.50345427, 0.5086437 , 0.5079423 , 0.50686455, 0.51021785,\n",
       "       0.51166797, 0.512649  , 0.5134961 , 0.50660163, 0.5104016 ,\n",
       "       0.5056374 , 0.5083989 , 0.5067273 , 0.50910604, 0.5077595 ,\n",
       "       0.51056236, 0.5128201 , 0.5161644 , 0.5167516 , 0.51583284,\n",
       "       0.52060485, 0.51441944, 0.51203495, 0.5024952 , 0.50765365,\n",
       "       0.5021186 , 0.50599873, 0.5135494 , 0.5077028 , 0.49780095,\n",
       "       0.4972929 , 0.5010018 , 0.5097003 , 0.52069235, 0.5196537 ,\n",
       "       0.5193557 , 0.5144306 , 0.5102947 , 0.5083182 , 0.50674886,\n",
       "       0.5086735 , 0.5135464 , 0.50499   , 0.509463  , 0.5104292 ,\n",
       "       0.51059145, 0.5116944 , 0.51621956, 0.51584387, 0.5215543 ,\n",
       "       0.515097  , 0.50602746, 0.5060494 , 0.50471604, 0.50331706,\n",
       "       0.5057484 , 0.5087337 , 0.51027983, 0.51199645, 0.51970154,\n",
       "       0.5236801 , 0.5123128 , 0.5090169 , 0.50850594, 0.5078714 ,\n",
       "       0.50872695, 0.5090934 , 0.51181126, 0.51209366, 0.5106817 ,\n",
       "       0.51171017, 0.52102   , 0.51660925, 0.51905894, 0.52094007,\n",
       "       0.5151144 , 0.5203761 , 0.5129688 , 0.51250494, 0.51369834,\n",
       "       0.5114159 , 0.5154922 , 0.5155235 , 0.51970994, 0.5177082 ,\n",
       "       0.5164931 , 0.51448613, 0.5114955 , 0.5103956 , 0.509716  ,\n",
       "       0.5018325 , 0.50914884, 0.507631  , 0.5116229 , 0.5113644 ,\n",
       "       0.5152268 , 0.5227127 , 0.5157018 , 0.5070784 , 0.49667552,\n",
       "       0.4967639 , 0.50233793, 0.5082157 , 0.5128703 , 0.51561683,\n",
       "       0.51506275, 0.5156815 , 0.5204918 , 0.519009  , 0.5137951 ,\n",
       "       0.5119727 , 0.50961405, 0.5051631 , 0.515     , 0.51299316,\n",
       "       0.5120599 , 0.5023465 , 0.49295366, 0.5041282 , 0.5075584 ,\n",
       "       0.5123504 , 0.50961936, 0.5118699 , 0.5142583 , 0.5141945 ,\n",
       "       0.51374954, 0.51494294, 0.51611614, 0.5137284 , 0.5114654 ,\n",
       "       0.5108486 , 0.51249075, 0.5102341 , 0.51507485, 0.5194096 ,\n",
       "       0.5200416 , 0.51638144, 0.51929224, 0.51707035, 0.5046428 ,\n",
       "       0.51325816, 0.51136875, 0.5116866 , 0.5127911 , 0.5152918 ,\n",
       "       0.5168762 , 0.5155223 , 0.5160489 , 0.51551676, 0.5151815 ,\n",
       "       0.5137249 , 0.51384556, 0.5135609 , 0.5130828 , 0.5132191 ,\n",
       "       0.5151355 , 0.5150888 , 0.5167338 , 0.51536906, 0.51227695,\n",
       "       0.51007277, 0.5096015 , 0.50944936, 0.5124764 , 0.5101088 ,\n",
       "       0.5060556 , 0.5099812 , 0.50463796, 0.49816063, 0.5150757 ,\n",
       "       0.52524877, 0.5062573 , 0.51704335, 0.5200653 , 0.5178679 ,\n",
       "       0.5137166 , 0.51970845, 0.52066916, 0.5148247 , 0.51460177,\n",
       "       0.5156494 , 0.51472014, 0.5133055 , 0.51288784, 0.5158936 ,\n",
       "       0.5196767 , 0.51855135, 0.51628494, 0.5115331 , 0.5070665 ,\n",
       "       0.5052688 , 0.50552106, 0.5071331 , 0.5051251 , 0.50820154,\n",
       "       0.50828224, 0.5134641 , 0.5133618 , 0.5222292 , 0.5191642 ,\n",
       "       0.5189654 , 0.51447886, 0.51169354, 0.5125795 , 0.5124619 ,\n",
       "       0.51126754, 0.51232564, 0.51590365, 0.51710373, 0.5195016 ],\n",
       "      dtype=float32)"
      ]
     },
     "execution_count": 66,
     "metadata": {},
     "output_type": "execute_result"
    }
   ],
   "source": [
    "yhat"
   ]
  },
  {
   "cell_type": "code",
   "execution_count": 66,
   "metadata": {
    "id": "daY8MfYud4Gi"
   },
   "outputs": [],
   "source": []
  },
  {
   "cell_type": "code",
   "execution_count": 36,
   "metadata": {
    "id": "6oJrxr9khmc0"
   },
   "outputs": [],
   "source": []
  },
  {
   "cell_type": "code",
   "execution_count": null,
   "metadata": {
    "id": "b-baUlFlhvfL"
   },
   "outputs": [],
   "source": []
  }
 ],
 "metadata": {
  "colab": {
   "collapsed_sections": [],
   "name": "Untitled4(1).ipynb",
   "provenance": []
  },
  "kernelspec": {
   "display_name": "Python 3",
   "language": "python",
   "name": "python3"
  },
  "language_info": {
   "codemirror_mode": {
    "name": "ipython",
    "version": 3
   },
   "file_extension": ".py",
   "mimetype": "text/x-python",
   "name": "python",
   "nbconvert_exporter": "python",
   "pygments_lexer": "ipython3",
   "version": "3.7.7"
  }
 },
 "nbformat": 4,
 "nbformat_minor": 1
}
